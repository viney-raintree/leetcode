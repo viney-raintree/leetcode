{
 "cells": [
  {
   "cell_type": "raw",
   "metadata": {},
   "source": [
    "problem 1\n",
    "\n",
    "\n"
   ]
  },
  {
   "cell_type": "code",
   "execution_count": 26,
   "metadata": {
    "collapsed": true
   },
   "outputs": [],
   "source": [
    "    def twoSum(nums, target):\n",
    "        \"\"\"\n",
    "        :type nums: List[int]\n",
    "        :type target: int\n",
    "        :rtype: List[int]\n",
    "        \"\"\"\n",
    "        \n",
    "        for i in range(len(nums)):\n",
    "            checkNum = nums[i]\n",
    "            print('testing 1st loop',i, nums[i])\n",
    "            for j in range(i+1,len(nums)):\n",
    "                print('testing 2nd loop',j, nums[j])\n",
    "                if (target - checkNum == nums[j]):\n",
    "                    return i, j\n",
    "                \n",
    "                \n",
    "              "
   ]
  },
  {
   "cell_type": "code",
   "execution_count": 30,
   "metadata": {},
   "outputs": [
    {
     "name": "stdout",
     "output_type": "stream",
     "text": [
      "testing 1st loop 0 2\n",
      "testing 2nd loop 1 5\n",
      "testing 2nd loop 2 3\n",
      "testing 2nd loop 3 1\n",
      "testing 1st loop 1 5\n",
      "testing 2nd loop 2 3\n",
      "testing 2nd loop 3 1\n",
      "Wall time: 2.33 ms\n"
     ]
    },
    {
     "data": {
      "text/plain": [
       "(1, 3)"
      ]
     },
     "execution_count": 30,
     "metadata": {},
     "output_type": "execute_result"
    }
   ],
   "source": [
    "%time twoSum([2,5,3,1],6)"
   ]
  },
  {
   "cell_type": "code",
   "execution_count": 28,
   "metadata": {
    "collapsed": true
   },
   "outputs": [],
   "source": [
    "    def twoSumAgain(nums, target):\n",
    "\n",
    "        for idx, i in enumerate(nums):\n",
    "            if target-i in (nums):\n",
    "                if nums.index(target-i) == idx:\n",
    "                    continue\n",
    "                return [idx, nums.index(target-i)]\n",
    "        return -1"
   ]
  },
  {
   "cell_type": "code",
   "execution_count": 31,
   "metadata": {},
   "outputs": [
    {
     "name": "stdout",
     "output_type": "stream",
     "text": [
      "Wall time: 0 ns\n"
     ]
    },
    {
     "data": {
      "text/plain": [
       "[1, 3]"
      ]
     },
     "execution_count": 31,
     "metadata": {},
     "output_type": "execute_result"
    }
   ],
   "source": [
    "%time twoSumAgain([2,5,3,1],6)"
   ]
  },
  {
   "cell_type": "raw",
   "metadata": {},
   "source": [
    "Learned Functions\n",
    "\n",
    "`range`\n",
    "`enumerate`\n",
    "\n",
    "if statement\n",
    "\n",
    "style of python for loop\n",
    "\n"
   ]
  },
  {
   "cell_type": "raw",
   "metadata": {},
   "source": [
    "zip function"
   ]
  },
  {
   "cell_type": "code",
   "execution_count": 7,
   "metadata": {},
   "outputs": [
    {
     "name": "stdout",
     "output_type": "stream",
     "text": [
      "[(1, 'one'), (2, 'two'), (3, 'three')]\n",
      "{(2, 'two'), (1, 'one'), (3, 'three')}\n",
      "set()\n"
     ]
    }
   ],
   "source": [
    "numberList = [1, 2, 3]\n",
    "strList = ['one', 'two', 'three']\n",
    "\n",
    "# No iterables are passed\n",
    "#result = zip()\n",
    "\n",
    "# Two iterables are passed\n",
    "result = zip(numberList, strList)\n",
    "\n",
    "# Converting itertor to list\n",
    "resultList = list(result)\n",
    "print(resultList)\n",
    "\n",
    "# Converting itertor to set\n",
    "resultSet = set(resultList)\n",
    "print(resultSet)\n",
    "\n",
    "# Converting itertor to set\n",
    "resultSet1 = set(result)\n",
    "print(resultSet1)"
   ]
  },
  {
   "cell_type": "raw",
   "metadata": {},
   "source": [
    "Problem2\n",
    "\n",
    "You are given two non-empty linked lists representing two non-negative integers. The digits are stored in reverse order and each of their nodes contain a single digit. Add the two numbers and return it as a linked list.\n",
    "\n",
    "You may assume the two numbers do not contain any leading zero, except the number 0 itself.\n",
    "\n",
    "Example:\n",
    "\n",
    "Input: (2 -> 4 -> 3) + (5 -> 6 -> 4)\n",
    "Output: 7 -> 0 -> 8\n",
    "Explanation: 342 + 465 = 807."
   ]
  },
  {
   "cell_type": "code",
   "execution_count": 8,
   "metadata": {
    "collapsed": true
   },
   "outputs": [],
   "source": [
    "class Solution:\n",
    "    def addTwoNumbers(self, l1, l2):\n",
    "        \"\"\"\n",
    "        :type l1: ListNode\n",
    "        :type l2: ListNode\n",
    "        :rtype: ListNode\n",
    "        \"\"\"\n",
    "        sol = ListNode(l1.val + l2.val)\n",
    "        carry = 0\n",
    "        if sol.val > 9:\n",
    "            sol.val = sol.val - 10\n",
    "            carry = 1\n",
    "        \n",
    "        if l1.next is None and l2.next is None and carry == 0:\n",
    "            # Base case: return solution node if no more next & no carry to process\n",
    "            return sol\n",
    "        else:\n",
    "            # Initialize empty next nodes to 0 if there are any next values to add\n",
    "            if l1.next is None:\n",
    "                l1.next = ListNode(0)\n",
    "            if l2.next is None:\n",
    "                l2.next = ListNode(0)    \n",
    "            l1.next.val = l1.next.val + carry # Add carry to one of the nodes...\n",
    "            sol.next = self.addTwoNumbers(l1.next, l2.next) # Recursive call \n",
    "            return sol\n"
   ]
  },
  {
   "cell_type": "code",
   "execution_count": null,
   "metadata": {
    "collapsed": true
   },
   "outputs": [],
   "source": [
    " s= Solution()"
   ]
  },
  {
   "cell_type": "code",
   "execution_count": 14,
   "metadata": {},
   "outputs": [
    {
     "ename": "NameError",
     "evalue": "name 'ListNode' is not defined",
     "output_type": "error",
     "traceback": [
      "\u001b[1;31m---------------------------------------------------------------------------\u001b[0m",
      "\u001b[1;31mNameError\u001b[0m                                 Traceback (most recent call last)",
      "\u001b[1;32m<ipython-input-14-37190887c0a2>\u001b[0m in \u001b[0;36m<module>\u001b[1;34m()\u001b[0m\n\u001b[1;32m----> 1\u001b[1;33m \u001b[0ms\u001b[0m\u001b[1;33m.\u001b[0m\u001b[0maddTwoNumbers\u001b[0m\u001b[1;33m(\u001b[0m\u001b[1;33m[\u001b[0m\u001b[1;36m2\u001b[0m\u001b[1;33m,\u001b[0m\u001b[1;36m4\u001b[0m\u001b[1;33m,\u001b[0m\u001b[1;36m3\u001b[0m\u001b[1;33m]\u001b[0m\u001b[1;33m,\u001b[0m\u001b[1;33m[\u001b[0m\u001b[1;36m5\u001b[0m\u001b[1;33m,\u001b[0m\u001b[1;36m6\u001b[0m\u001b[1;33m,\u001b[0m\u001b[1;36m4\u001b[0m\u001b[1;33m]\u001b[0m\u001b[1;33m)\u001b[0m\u001b[1;33m\u001b[0m\u001b[0m\n\u001b[0m",
      "\u001b[1;32m<ipython-input-8-6c0f5d70621a>\u001b[0m in \u001b[0;36maddTwoNumbers\u001b[1;34m(self, l1, l2)\u001b[0m\n\u001b[0;32m      6\u001b[0m         \u001b[1;33m:\u001b[0m\u001b[0mrtype\u001b[0m\u001b[1;33m:\u001b[0m \u001b[0mListNode\u001b[0m\u001b[1;33m\u001b[0m\u001b[0m\n\u001b[0;32m      7\u001b[0m         \"\"\"\n\u001b[1;32m----> 8\u001b[1;33m         \u001b[0msol\u001b[0m \u001b[1;33m=\u001b[0m \u001b[0mListNode\u001b[0m\u001b[1;33m(\u001b[0m\u001b[0ml1\u001b[0m\u001b[1;33m.\u001b[0m\u001b[0mval\u001b[0m \u001b[1;33m+\u001b[0m \u001b[0ml2\u001b[0m\u001b[1;33m.\u001b[0m\u001b[0mval\u001b[0m\u001b[1;33m)\u001b[0m\u001b[1;33m\u001b[0m\u001b[0m\n\u001b[0m\u001b[0;32m      9\u001b[0m         \u001b[0mcarry\u001b[0m \u001b[1;33m=\u001b[0m \u001b[1;36m0\u001b[0m\u001b[1;33m\u001b[0m\u001b[0m\n\u001b[0;32m     10\u001b[0m         \u001b[1;32mif\u001b[0m \u001b[0msol\u001b[0m\u001b[1;33m.\u001b[0m\u001b[0mval\u001b[0m \u001b[1;33m>\u001b[0m \u001b[1;36m9\u001b[0m\u001b[1;33m:\u001b[0m\u001b[1;33m\u001b[0m\u001b[0m\n",
      "\u001b[1;31mNameError\u001b[0m: name 'ListNode' is not defined"
     ]
    }
   ],
   "source": [
    "s.addTwoNumbers([2,4,3],[5,6,4])"
   ]
  },
  {
   "cell_type": "code",
   "execution_count": 15,
   "metadata": {
    "collapsed": true
   },
   "outputs": [],
   "source": [
    "list = [1,2]"
   ]
  },
  {
   "cell_type": "code",
   "execution_count": 20,
   "metadata": {},
   "outputs": [
    {
     "data": {
      "text/plain": [
       "<function list.count>"
      ]
     },
     "execution_count": 20,
     "metadata": {},
     "output_type": "execute_result"
    }
   ],
   "source": [
    "list\n",
    "list.count"
   ]
  },
  {
   "cell_type": "code",
   "execution_count": 18,
   "metadata": {},
   "outputs": [
    {
     "ename": "NameError",
     "evalue": "name 'size' is not defined",
     "output_type": "error",
     "traceback": [
      "\u001b[1;31m---------------------------------------------------------------------------\u001b[0m",
      "\u001b[1;31mNameError\u001b[0m                                 Traceback (most recent call last)",
      "\u001b[1;32m<ipython-input-18-7a85bf76e97d>\u001b[0m in \u001b[0;36m<module>\u001b[1;34m()\u001b[0m\n\u001b[1;32m----> 1\u001b[1;33m \u001b[0msize\u001b[0m\u001b[1;33m(\u001b[0m\u001b[0mlist\u001b[0m\u001b[1;33m)\u001b[0m\u001b[1;33m\u001b[0m\u001b[0m\n\u001b[0m",
      "\u001b[1;31mNameError\u001b[0m: name 'size' is not defined"
     ]
    }
   ],
   "source": [
    "size(list)"
   ]
  },
  {
   "cell_type": "code",
   "execution_count": null,
   "metadata": {
    "collapsed": true
   },
   "outputs": [],
   "source": [
    "def helper(list,subList, i):\n",
    "    "
   ]
  },
  {
   "cell_type": "code",
   "execution_count": null,
   "metadata": {
    "collapsed": true
   },
   "outputs": [],
   "source": [
    "def subsets(list):\n",
    "    "
   ]
  },
  {
   "cell_type": "code",
   "execution_count": 26,
   "metadata": {},
   "outputs": [
    {
     "name": "stdout",
     "output_type": "stream",
     "text": [
      "1 0 : ()\n",
      "2 1 : (1,)\n",
      "3 1 : (2,)\n",
      "4 1 : (3,)\n",
      "5 1 : (4,)\n",
      "6 2 : (1, 2)\n",
      "7 2 : (1, 3)\n",
      "8 2 : (1, 4)\n",
      "9 2 : (2, 3)\n",
      "10 2 : (2, 4)\n",
      "11 2 : (3, 4)\n",
      "12 3 : (1, 2, 3)\n",
      "13 3 : (1, 2, 4)\n",
      "14 3 : (1, 3, 4)\n",
      "15 3 : (2, 3, 4)\n",
      "16 4 : (1, 2, 3, 4)\n"
     ]
    }
   ],
   "source": [
    "import itertools\n",
    "a = [1,2,3,4]\n",
    "ctr = 1\n",
    "for i in range(0, len(a) + 1):\n",
    "    for j in itertools.combinations(a, i):\n",
    "        print(ctr, len(j), \":\", j)\n",
    "        ctr += 1"
   ]
  },
  {
   "cell_type": "raw",
   "metadata": {},
   "source": [
    "Here is an alternative and iterative solution in Java. I found what i think its a much easier way to think about the problem (at least iteratively).\n",
    "The logic is as follows: The total number of subsets for a set of size n it's 2^n, so with each addition of one element we duplicate the total amount of sets.\n",
    "After analizing a couple of cases with different n, you can see that each time you add a new element you have the previous subsets PLUS the previous subsets and the new element.\n",
    "For example assuming a set with numbers from 1 to n: \n",
    "n = 0 -> []\n",
    "n = 1 -> [] +([] ) add 1 = [],[1] \n",
    "n = 2 -> [], [1] + ([],[1]).add(2) = [],[1]+ [2],[1,2]\n",
    "\n",
    "Its easy to write an iterative code for this:\n",
    "\n",
    " private static List<List<Integer>> generateSubsets(int [] baseSet) {\n",
    "        List<List<Integer>> allSubSets = new ArrayList<>();\n",
    "        // add empty set\n",
    "        List<Integer> subSet = new ArrayList<>();\n",
    "        List<List<Integer>> newSubSets;\n",
    "        allSubSets.add(subSet);\n",
    "        for(Integer i : baseSet){\n",
    "            newSubSets= new ArrayList<>();\n",
    "            for(List previousSet: allSubSets){\n",
    "             subSet = new ArrayList<>();\n",
    "             subSet.addAll(previousSet);\n",
    "             subSet.add(i);\n",
    "             newSubSets.add(subSet);\n",
    "            }\n",
    "            allSubSets.addAll(newSubSets);\n",
    "        }\n",
    "        return allSubSets;\n",
    "    }\n",
    " \n",
    "3"
   ]
  },
  {
   "cell_type": "code",
   "execution_count": 52,
   "metadata": {
    "collapsed": true
   },
   "outputs": [],
   "source": [
    "def fib(n):\n",
    "    if n>=2:\n",
    "        return fib(n-1) + fib(n-2)\n",
    "    elif n == 1: \n",
    "        return 1\n",
    "    else: \n",
    "        return 0\n"
   ]
  },
  {
   "cell_type": "code",
   "execution_count": 62,
   "metadata": {
    "collapsed": true
   },
   "outputs": [],
   "source": [
    "def printFib(n):\n",
    "    i = 0\n",
    "    while(i<=n):\n",
    "        print(fib(i))\n",
    "        i = i + 1"
   ]
  },
  {
   "cell_type": "code",
   "execution_count": 63,
   "metadata": {},
   "outputs": [
    {
     "name": "stdout",
     "output_type": "stream",
     "text": [
      "3\n"
     ]
    }
   ],
   "source": [
    "print(fib(4))"
   ]
  },
  {
   "cell_type": "code",
   "execution_count": 64,
   "metadata": {},
   "outputs": [
    {
     "name": "stdout",
     "output_type": "stream",
     "text": [
      "0\n",
      "1\n",
      "1\n",
      "2\n",
      "3\n",
      "5\n",
      "8\n",
      "13\n",
      "21\n",
      "34\n",
      "55\n"
     ]
    }
   ],
   "source": [
    "printFib(10)"
   ]
  },
  {
   "cell_type": "code",
   "execution_count": 85,
   "metadata": {
    "collapsed": true
   },
   "outputs": [],
   "source": [
    "def newfib(n):\n",
    "    if n>=2:\n",
    "        if n in memo:\n",
    "            return memo[n]\n",
    "        else:\n",
    "            memo[n] = newfib(n-1) + newfib(n-2)\n",
    "            return memo[n]\n",
    "    elif n == 1:\n",
    "        return 1\n",
    "    else: \n",
    "        return 0"
   ]
  },
  {
   "cell_type": "code",
   "execution_count": 88,
   "metadata": {
    "collapsed": true
   },
   "outputs": [],
   "source": [
    "memo = {}\n",
    "def printFibwithMemoization(n):\n",
    "    i = 0\n",
    "    while(i<=n):\n",
    "        print(newfib(i))\n",
    "        i = i + 1"
   ]
  },
  {
   "cell_type": "code",
   "execution_count": 89,
   "metadata": {},
   "outputs": [
    {
     "name": "stdout",
     "output_type": "stream",
     "text": [
      "0\n",
      "1\n",
      "1\n",
      "2\n",
      "3\n",
      "5\n",
      "8\n",
      "13\n"
     ]
    }
   ],
   "source": [
    "printFibwithMemoization(7)"
   ]
  },
  {
   "cell_type": "code",
   "execution_count": null,
   "metadata": {
    "collapsed": true
   },
   "outputs": [],
   "source": [
    "#some general practice python coder"
   ]
  },
  {
   "cell_type": "code",
   "execution_count": null,
   "metadata": {},
   "outputs": [
    {
     "name": "stdout",
     "output_type": "stream",
     "text": [
      "\n",
      "Welcome to Python 3.6's help utility!\n",
      "\n",
      "If this is your first time using Python, you should definitely check out\n",
      "the tutorial on the Internet at http://docs.python.org/3.6/tutorial/.\n",
      "\n",
      "Enter the name of any module, keyword, or topic to get help on writing\n",
      "Python programs and using Python modules.  To quit this help utility and\n",
      "return to the interpreter, just type \"quit\".\n",
      "\n",
      "To get a list of available modules, keywords, symbols, or topics, type\n",
      "\"modules\", \"keywords\", \"symbols\", or \"topics\".  Each module also comes\n",
      "with a one-line summary of what it does; to list the modules whose name\n",
      "or summary contain a given string such as \"spam\", type \"modules spam\".\n",
      "\n",
      "help> modules\n",
      "\n",
      "Please wait a moment while I gather a list of all available modules...\n",
      "\n"
     ]
    },
    {
     "name": "stderr",
     "output_type": "stream",
     "text": [
      "C:\\Users\\viney\\Anaconda3\\lib\\site-packages\\IPython\\kernel\\__init__.py:13: ShimWarning: The `IPython.kernel` package has been deprecated since IPython 4.0.You should import from ipykernel or jupyter_client instead.\n",
      "  \"You should import from ipykernel or jupyter_client instead.\", ShimWarning)\n",
      "WARNING: AstropyDeprecationWarning: The astropy.vo.samp module has now been moved to astropy.samp [astropy.vo.samp]\n",
      "C:\\Users\\viney\\Anaconda3\\lib\\site-packages\\odo\\backends\\pandas.py:102: FutureWarning: pandas.tslib is deprecated and will be removed in a future version.\n",
      "You can access NaTType as type(pandas.NaT)\n",
      "  @convert.register((pd.Timestamp, pd.Timedelta), (pd.tslib.NaTType, type(None)))\n",
      "C:\\Users\\viney\\Anaconda3\\lib\\site-packages\\nltk\\twitter\\__init__.py:20: UserWarning: The twython library has not been installed. Some functionality from the twitter package will not be available.\n",
      "  warnings.warn(\"The twython library has not been installed. \"\n",
      "C:\\Users\\viney\\Anaconda3\\lib\\site-packages\\statsmodels\\compat\\pandas.py:56: FutureWarning: The pandas.core.datetools module is deprecated and will be removed in a future version. Please use the pandas.tseries module instead.\n",
      "  from pandas.core import datetools\n"
     ]
    }
   ],
   "source": [
    "help()"
   ]
  },
  {
   "cell_type": "code",
   "execution_count": null,
   "metadata": {
    "collapsed": true
   },
   "outputs": [],
   "source": [
    "#some general practice python coder\n"
   ]
  },
  {
   "cell_type": "code",
   "execution_count": 24,
   "metadata": {
    "collapsed": true
   },
   "outputs": [
    {
     "data": {
      "text/plain": [
       "['ArithmeticError',\n",
       " 'AssertionError',\n",
       " 'AttributeError',\n",
       " 'BaseException',\n",
       " 'BlockingIOError',\n",
       " 'BrokenPipeError',\n",
       " 'BufferError',\n",
       " 'BytesWarning',\n",
       " 'ChildProcessError',\n",
       " 'ConnectionAbortedError',\n",
       " 'ConnectionError',\n",
       " 'ConnectionRefusedError',\n",
       " 'ConnectionResetError',\n",
       " 'DeprecationWarning',\n",
       " 'EOFError',\n",
       " 'Ellipsis',\n",
       " 'EnvironmentError',\n",
       " 'Exception',\n",
       " 'False',\n",
       " 'FileExistsError',\n",
       " 'FileNotFoundError',\n",
       " 'FloatingPointError',\n",
       " 'FutureWarning',\n",
       " 'GeneratorExit',\n",
       " 'IOError',\n",
       " 'ImportError',\n",
       " 'ImportWarning',\n",
       " 'IndentationError',\n",
       " 'IndexError',\n",
       " 'InterruptedError',\n",
       " 'IsADirectoryError',\n",
       " 'KeyError',\n",
       " 'KeyboardInterrupt',\n",
       " 'LookupError',\n",
       " 'MemoryError',\n",
       " 'ModuleNotFoundError',\n",
       " 'NameError',\n",
       " 'None',\n",
       " 'NotADirectoryError',\n",
       " 'NotImplemented',\n",
       " 'NotImplementedError',\n",
       " 'OSError',\n",
       " 'OverflowError',\n",
       " 'PendingDeprecationWarning',\n",
       " 'PermissionError',\n",
       " 'ProcessLookupError',\n",
       " 'RecursionError',\n",
       " 'ReferenceError',\n",
       " 'ResourceWarning',\n",
       " 'RuntimeError',\n",
       " 'RuntimeWarning',\n",
       " 'StopAsyncIteration',\n",
       " 'StopIteration',\n",
       " 'SyntaxError',\n",
       " 'SyntaxWarning',\n",
       " 'SystemError',\n",
       " 'SystemExit',\n",
       " 'TabError',\n",
       " 'TimeoutError',\n",
       " 'True',\n",
       " 'TypeError',\n",
       " 'UnboundLocalError',\n",
       " 'UnicodeDecodeError',\n",
       " 'UnicodeEncodeError',\n",
       " 'UnicodeError',\n",
       " 'UnicodeTranslateError',\n",
       " 'UnicodeWarning',\n",
       " 'UserWarning',\n",
       " 'ValueError',\n",
       " 'Warning',\n",
       " 'WindowsError',\n",
       " 'ZeroDivisionError',\n",
       " '__IPYTHON__',\n",
       " '__build_class__',\n",
       " '__debug__',\n",
       " '__doc__',\n",
       " '__import__',\n",
       " '__loader__',\n",
       " '__name__',\n",
       " '__package__',\n",
       " '__spec__',\n",
       " 'abs',\n",
       " 'all',\n",
       " 'any',\n",
       " 'ascii',\n",
       " 'bin',\n",
       " 'bool',\n",
       " 'bytearray',\n",
       " 'bytes',\n",
       " 'callable',\n",
       " 'chr',\n",
       " 'classmethod',\n",
       " 'compile',\n",
       " 'complex',\n",
       " 'copyright',\n",
       " 'credits',\n",
       " 'delattr',\n",
       " 'dict',\n",
       " 'dir',\n",
       " 'display',\n",
       " 'divmod',\n",
       " 'enumerate',\n",
       " 'eval',\n",
       " 'exec',\n",
       " 'filter',\n",
       " 'float',\n",
       " 'format',\n",
       " 'frozenset',\n",
       " 'get_ipython',\n",
       " 'getattr',\n",
       " 'globals',\n",
       " 'hasattr',\n",
       " 'hash',\n",
       " 'help',\n",
       " 'hex',\n",
       " 'id',\n",
       " 'input',\n",
       " 'int',\n",
       " 'isinstance',\n",
       " 'issubclass',\n",
       " 'iter',\n",
       " 'len',\n",
       " 'license',\n",
       " 'list',\n",
       " 'locals',\n",
       " 'map',\n",
       " 'max',\n",
       " 'memoryview',\n",
       " 'min',\n",
       " 'next',\n",
       " 'object',\n",
       " 'oct',\n",
       " 'open',\n",
       " 'ord',\n",
       " 'pow',\n",
       " 'print',\n",
       " 'property',\n",
       " 'range',\n",
       " 'repr',\n",
       " 'reversed',\n",
       " 'round',\n",
       " 'set',\n",
       " 'setattr',\n",
       " 'slice',\n",
       " 'sorted',\n",
       " 'staticmethod',\n",
       " 'str',\n",
       " 'sum',\n",
       " 'super',\n",
       " 'tuple',\n",
       " 'type',\n",
       " 'vars',\n",
       " 'zip']"
      ]
     },
     "execution_count": 24,
     "metadata": {},
     "output_type": "execute_result"
    }
   ],
   "source": [
    "dir (__builtins__)"
   ]
  },
  {
   "cell_type": "code",
   "execution_count": null,
   "metadata": {
    "collapsed": true
   },
   "outputs": [],
   "source": [
    "s = abcabcsssss  --> abcs\n",
    "s=  bbbbbbb ---> b\n",
    "s = kewskedd -- >kews"
   ]
  },
  {
   "cell_type": "code",
   "execution_count": 84,
   "metadata": {
    "collapsed": true
   },
   "outputs": [],
   "source": [
    "class Solution:\n",
    "    def lengthOfLongestSubstring(self, s):\n",
    "        \"\"\"\n",
    "        :type s: str\n",
    "        :rtype: int\n",
    "        \"\"\"\n",
    "        i = 0\n",
    "        j = 0\n",
    "        newStr = ''\n",
    "        strList = []\n",
    "        strlen = len(s)\n",
    "        newStrList = [None]*strlen #method 1\n",
    "        #newStrList = []      #method 2\n",
    "        for i in range(strlen):\n",
    "            if s[i] not in newStr:\n",
    "                #strList[j].append(s[i])\n",
    "                newStr += s[i]\n",
    "            else:\n",
    "                j +=1\n",
    "                newStr = ''\n",
    "                newStr += s[i]\n",
    "                #strList[j].append(s[i])\n",
    "                #newStr = ''.join(strList[j])\n",
    "            i += 1\n",
    "            #print(j,newStr)\n",
    "            if newStr not in newStrList:\n",
    "                newStrList[j] = newStr     #method 1\n",
    "                #newStrList.append(newStr)   #method 2\n",
    "                \n",
    "        print(newStrList)\n",
    "        newStrList = [i for i in newStrList if i is not None]     #method 1\n",
    "        print(newStrList)\n",
    "\n",
    "        mapped_newStrList = list(map(lambda x: len(x), newStrList))\n",
    "        print(mapped_newStrList)\n",
    "        maxValue = max(mapped_newStrList)\n",
    "        print(maxValue)\n",
    "        substrIndex = mapped_newStrList.index(maxValue)\n",
    "        subStr = newStrList[substrIndex]\n",
    "        return maxValue, substrIndex, subStr\n",
    "    \n",
    "    \n",
    "    def lengthOfLongestSubstringMethod2(self, s):\n",
    "        \"\"\"\n",
    "        :type s: str\n",
    "        :rtype: int\n",
    "        \"\"\"\n",
    "        i = 0\n",
    "        j = 0\n",
    "        newStr = ''\n",
    "        strList = []\n",
    "        if s is '':\n",
    "            return 0\n",
    "        \n",
    "        strlen = len(s)\n",
    "        #newStrList = [None]*strlen #method 1\n",
    "        newStrList = []      #method 2\n",
    "        for i in range(strlen):\n",
    "            if s[i] not in newStr:\n",
    "                newStr += s[i]\n",
    "            else:\n",
    "                j +=1\n",
    "                newStr = ''\n",
    "                newStr += s[i]\n",
    "                #strList[j].append(s[i])\n",
    "                #newStr = ''.join(strList[j])\n",
    "            i += 1\n",
    "            #print(j,newStr)\n",
    "            if newStr not in newStrList:\n",
    "            #newStrList[j] = newStr     #method 1\n",
    "                newStrList.append(newStr)   #method 2\n",
    "\n",
    "        print(newStrList)\n",
    "        #newStrList = [i for i in newStrList if i is not None]     #method 1\n",
    "        print(newStrList)\n",
    "        mapped_newStrList = list(map(lambda x: len(x), newStrList))\n",
    "        print(mapped_newStrList)\n",
    "        maxValue = max(mapped_newStrList)\n",
    "        print(maxValue)\n",
    "        substrIndex = mapped_newStrList.index(maxValue)\n",
    "        subStr = newStrList[substrIndex]\n",
    "        return maxValue, substrIndex, subStr    "
   ]
  },
  {
   "cell_type": "code",
   "execution_count": 85,
   "metadata": {},
   "outputs": [
    {
     "name": "stdout",
     "output_type": "stream",
     "text": [
      "['abc', 'ab', 'abcv', 'v', None, None, None, None, None, None, None]\n",
      "['abc', 'ab', 'abcv', 'v']\n",
      "[3, 2, 4, 1]\n",
      "4\n",
      "(4, 2, 'abcv')\n",
      "['a', 'ab', 'abc', 'abcv', 'v']\n",
      "['a', 'ab', 'abc', 'abcv', 'v']\n",
      "[1, 2, 3, 4, 1]\n",
      "4\n"
     ]
    },
    {
     "data": {
      "text/plain": [
       "(4, 3, 'abcv')"
      ]
     },
     "execution_count": 85,
     "metadata": {},
     "output_type": "execute_result"
    }
   ],
   "source": [
    "s='abcabcabcvv' \n",
    "sol = Solution()\n",
    "print(sol.lengthOfLongestSubstring(s))\n",
    "sol.lengthOfLongestSubstringMethod2(s)"
   ]
  },
  {
   "cell_type": "code",
   "execution_count": 86,
   "metadata": {},
   "outputs": [
    {
     "data": {
      "text/plain": [
       "0"
      ]
     },
     "execution_count": 86,
     "metadata": {},
     "output_type": "execute_result"
    }
   ],
   "source": [
    "s = ''\n",
    "sol.lengthOfLongestSubstringMethod2(s)"
   ]
  },
  {
   "cell_type": "code",
   "execution_count": 87,
   "metadata": {},
   "outputs": [
    {
     "name": "stdout",
     "output_type": "stream",
     "text": [
      "['dv', 'df', None, None]\n",
      "['dv', 'df']\n",
      "[2, 2]\n",
      "2\n",
      "(2, 0, 'dv')\n",
      "['d', 'dv', 'df']\n",
      "['d', 'dv', 'df']\n",
      "[1, 2, 2]\n",
      "2\n"
     ]
    },
    {
     "data": {
      "text/plain": [
       "(2, 1, 'dv')"
      ]
     },
     "execution_count": 87,
     "metadata": {},
     "output_type": "execute_result"
    }
   ],
   "source": [
    "s='dvdf' \n",
    "sol = Solution()\n",
    "print(sol.lengthOfLongestSubstring(s))\n",
    "sol.lengthOfLongestSubstringMethod2(s)"
   ]
  },
  {
   "cell_type": "code",
   "execution_count": 122,
   "metadata": {
    "collapsed": true
   },
   "outputs": [],
   "source": [
    "class Solution:\n",
    "    def findMedianSortedArrays(self, nums1, nums2):\n",
    "        \"\"\"\n",
    "        :type nums1: List[int]\n",
    "        :type nums2: List[int]\n",
    "        :rtype: float\n",
    "        \"\"\"\n",
    "        nums = nums1 + nums2\n",
    "        #print(type(nums))\n",
    "        #print(nums)\n",
    "        nums.sort()\n",
    "        print(nums)\n",
    "        print(len(nums))\n",
    "        length = len(nums)\n",
    "        \n",
    "        return nums"
   ]
  },
  {
   "cell_type": "code",
   "execution_count": 124,
   "metadata": {},
   "outputs": [
    {
     "name": "stdout",
     "output_type": "stream",
     "text": [
      "[1, 1, 2, 2, 3, 4, 5]\n",
      "7\n",
      "[1, 1, 2, 2, 3, 4, 5]\n"
     ]
    }
   ],
   "source": [
    "n1=[1,2,3,4,5] \n",
    "n2 = [1,2]\n",
    "sol = Solution()\n",
    "n = sol.findMedianSortedArrays(n1,n2)\n",
    "print(n)\n",
    "#n.sort()\n",
    "#print(n)"
   ]
  },
  {
   "cell_type": "code",
   "execution_count": null,
   "metadata": {
    "collapsed": true
   },
   "outputs": [],
   "source": []
  }
 ],
 "metadata": {
  "kernelspec": {
   "display_name": "Python 3",
   "language": "python",
   "name": "python3"
  },
  "language_info": {
   "codemirror_mode": {
    "name": "ipython",
    "version": 3
   },
   "file_extension": ".py",
   "mimetype": "text/x-python",
   "name": "python",
   "nbconvert_exporter": "python",
   "pygments_lexer": "ipython3",
   "version": "3.6.3"
  }
 },
 "nbformat": 4,
 "nbformat_minor": 2
}
