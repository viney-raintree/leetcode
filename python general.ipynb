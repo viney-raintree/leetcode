{
 "cells": [
  {
   "cell_type": "code",
   "execution_count": 1,
   "metadata": {},
   "outputs": [
    {
     "name": "stdout",
     "output_type": "stream",
     "text": [
      "[6, 7, 8, 9, 10]\n",
      "[2, 4, 6, 8, 10, 12, 14, 16, 18, 20]\n",
      "55\n"
     ]
    }
   ],
   "source": [
    "from functools import reduce\n",
    "\n",
    "my_list = [1,2,3,4,5,6,7,8,9,10]\n",
    "\n",
    "# Use lambda function with `filter()`\n",
    "filtered_list = list(filter(lambda x: (x*2 > 10), my_list))\n",
    "\n",
    "# Use lambda function with `map()`\n",
    "mapped_list = list(map(lambda x: x*2, my_list))\n",
    "\n",
    "# Use lambda function with `reduce()`\n",
    "reduced_list = reduce(lambda x, y: x+y, my_list)\n",
    "\n",
    "print(filtered_list)\n",
    "print(mapped_list)\n",
    "print(reduced_list)\n"
   ]
  },
  {
   "cell_type": "code",
   "execution_count": 2,
   "metadata": {},
   "outputs": [
    {
     "data": {
      "text/plain": [
       "Type help() for interactive help, or help(object) for help about object."
      ]
     },
     "execution_count": 2,
     "metadata": {},
     "output_type": "execute_result"
    }
   ],
   "source": [
    "help"
   ]
  },
  {
   "cell_type": "code",
   "execution_count": 3,
   "metadata": {
    "collapsed": true
   },
   "outputs": [
    {
     "name": "stdout",
     "output_type": "stream",
     "text": [
      "\n",
      "Welcome to Python 3.6's help utility!\n",
      "\n",
      "If this is your first time using Python, you should definitely check out\n",
      "the tutorial on the Internet at http://docs.python.org/3.6/tutorial/.\n",
      "\n",
      "Enter the name of any module, keyword, or topic to get help on writing\n",
      "Python programs and using Python modules.  To quit this help utility and\n",
      "return to the interpreter, just type \"quit\".\n",
      "\n",
      "To get a list of available modules, keywords, symbols, or topics, type\n",
      "\"modules\", \"keywords\", \"symbols\", or \"topics\".  Each module also comes\n",
      "with a one-line summary of what it does; to list the modules whose name\n",
      "or summary contain a given string such as \"spam\", type \"modules spam\".\n",
      "\n",
      "help> modules\n",
      "\n",
      "Please wait a moment while I gather a list of all available modules...\n",
      "\n"
     ]
    },
    {
     "name": "stderr",
     "output_type": "stream",
     "text": [
      "C:\\Users\\viney\\Anaconda3\\lib\\site-packages\\IPython\\kernel\\__init__.py:13: ShimWarning: The `IPython.kernel` package has been deprecated since IPython 4.0.You should import from ipykernel or jupyter_client instead.\n",
      "  \"You should import from ipykernel or jupyter_client instead.\", ShimWarning)\n",
      "WARNING: AstropyDeprecationWarning: The astropy.vo.samp module has now been moved to astropy.samp [astropy.vo.samp]\n",
      "C:\\Users\\viney\\Anaconda3\\lib\\site-packages\\odo\\backends\\pandas.py:102: FutureWarning: pandas.tslib is deprecated and will be removed in a future version.\n",
      "You can access NaTType as type(pandas.NaT)\n",
      "  @convert.register((pd.Timestamp, pd.Timedelta), (pd.tslib.NaTType, type(None)))\n",
      "C:\\Users\\viney\\Anaconda3\\lib\\site-packages\\nltk\\twitter\\__init__.py:20: UserWarning: The twython library has not been installed. Some functionality from the twitter package will not be available.\n",
      "  warnings.warn(\"The twython library has not been installed. \"\n",
      "C:\\Users\\viney\\Anaconda3\\lib\\site-packages\\statsmodels\\compat\\pandas.py:56: FutureWarning: The pandas.core.datetools module is deprecated and will be removed in a future version. Please use the pandas.tseries module instead.\n",
      "  from pandas.core import datetools\n"
     ]
    },
    {
     "ename": "KeyboardInterrupt",
     "evalue": "",
     "output_type": "error",
     "traceback": [
      "\u001b[1;31m---------------------------------------------------------------------------\u001b[0m",
      "\u001b[1;31mKeyboardInterrupt\u001b[0m                         Traceback (most recent call last)",
      "\u001b[1;32m<ipython-input-3-39f0db9d7c42>\u001b[0m in \u001b[0;36m<module>\u001b[1;34m()\u001b[0m\n\u001b[1;32m----> 1\u001b[1;33m \u001b[0mhelp\u001b[0m\u001b[1;33m(\u001b[0m\u001b[1;33m)\u001b[0m\u001b[1;33m\u001b[0m\u001b[0m\n\u001b[0m",
      "\u001b[1;32m~\\Anaconda3\\lib\\_sitebuiltins.py\u001b[0m in \u001b[0;36m__call__\u001b[1;34m(self, *args, **kwds)\u001b[0m\n\u001b[0;32m    101\u001b[0m     \u001b[1;32mdef\u001b[0m \u001b[0m__call__\u001b[0m\u001b[1;33m(\u001b[0m\u001b[0mself\u001b[0m\u001b[1;33m,\u001b[0m \u001b[1;33m*\u001b[0m\u001b[0margs\u001b[0m\u001b[1;33m,\u001b[0m \u001b[1;33m**\u001b[0m\u001b[0mkwds\u001b[0m\u001b[1;33m)\u001b[0m\u001b[1;33m:\u001b[0m\u001b[1;33m\u001b[0m\u001b[0m\n\u001b[0;32m    102\u001b[0m         \u001b[1;32mimport\u001b[0m \u001b[0mpydoc\u001b[0m\u001b[1;33m\u001b[0m\u001b[0m\n\u001b[1;32m--> 103\u001b[1;33m         \u001b[1;32mreturn\u001b[0m \u001b[0mpydoc\u001b[0m\u001b[1;33m.\u001b[0m\u001b[0mhelp\u001b[0m\u001b[1;33m(\u001b[0m\u001b[1;33m*\u001b[0m\u001b[0margs\u001b[0m\u001b[1;33m,\u001b[0m \u001b[1;33m**\u001b[0m\u001b[0mkwds\u001b[0m\u001b[1;33m)\u001b[0m\u001b[1;33m\u001b[0m\u001b[0m\n\u001b[0m",
      "\u001b[1;32m~\\Anaconda3\\lib\\pydoc.py\u001b[0m in \u001b[0;36m__call__\u001b[1;34m(self, request)\u001b[0m\n\u001b[0;32m   1859\u001b[0m         \u001b[1;32melse\u001b[0m\u001b[1;33m:\u001b[0m\u001b[1;33m\u001b[0m\u001b[0m\n\u001b[0;32m   1860\u001b[0m             \u001b[0mself\u001b[0m\u001b[1;33m.\u001b[0m\u001b[0mintro\u001b[0m\u001b[1;33m(\u001b[0m\u001b[1;33m)\u001b[0m\u001b[1;33m\u001b[0m\u001b[0m\n\u001b[1;32m-> 1861\u001b[1;33m             \u001b[0mself\u001b[0m\u001b[1;33m.\u001b[0m\u001b[0minteract\u001b[0m\u001b[1;33m(\u001b[0m\u001b[1;33m)\u001b[0m\u001b[1;33m\u001b[0m\u001b[0m\n\u001b[0m\u001b[0;32m   1862\u001b[0m             self.output.write('''\n\u001b[0;32m   1863\u001b[0m \u001b[0mYou\u001b[0m \u001b[0mare\u001b[0m \u001b[0mnow\u001b[0m \u001b[0mleaving\u001b[0m \u001b[0mhelp\u001b[0m \u001b[1;32mand\u001b[0m \u001b[0mreturning\u001b[0m \u001b[0mto\u001b[0m \u001b[0mthe\u001b[0m \u001b[0mPython\u001b[0m \u001b[0minterpreter\u001b[0m\u001b[1;33m.\u001b[0m\u001b[1;33m\u001b[0m\u001b[0m\n",
      "\u001b[1;32m~\\Anaconda3\\lib\\pydoc.py\u001b[0m in \u001b[0;36minteract\u001b[1;34m(self)\u001b[0m\n\u001b[0;32m   1880\u001b[0m                 \u001b[0mself\u001b[0m\u001b[1;33m.\u001b[0m\u001b[0mintro\u001b[0m\u001b[1;33m(\u001b[0m\u001b[1;33m)\u001b[0m\u001b[1;33m\u001b[0m\u001b[0m\n\u001b[0;32m   1881\u001b[0m             \u001b[1;32melse\u001b[0m\u001b[1;33m:\u001b[0m\u001b[1;33m\u001b[0m\u001b[0m\n\u001b[1;32m-> 1882\u001b[1;33m                 \u001b[0mself\u001b[0m\u001b[1;33m.\u001b[0m\u001b[0mhelp\u001b[0m\u001b[1;33m(\u001b[0m\u001b[0mrequest\u001b[0m\u001b[1;33m)\u001b[0m\u001b[1;33m\u001b[0m\u001b[0m\n\u001b[0m\u001b[0;32m   1883\u001b[0m \u001b[1;33m\u001b[0m\u001b[0m\n\u001b[0;32m   1884\u001b[0m     \u001b[1;32mdef\u001b[0m \u001b[0mgetline\u001b[0m\u001b[1;33m(\u001b[0m\u001b[0mself\u001b[0m\u001b[1;33m,\u001b[0m \u001b[0mprompt\u001b[0m\u001b[1;33m)\u001b[0m\u001b[1;33m:\u001b[0m\u001b[1;33m\u001b[0m\u001b[0m\n",
      "\u001b[1;32m~\\Anaconda3\\lib\\pydoc.py\u001b[0m in \u001b[0;36mhelp\u001b[1;34m(self, request)\u001b[0m\n\u001b[0;32m   1897\u001b[0m             \u001b[1;32melif\u001b[0m \u001b[0mrequest\u001b[0m \u001b[1;33m==\u001b[0m \u001b[1;34m'symbols'\u001b[0m\u001b[1;33m:\u001b[0m \u001b[0mself\u001b[0m\u001b[1;33m.\u001b[0m\u001b[0mlistsymbols\u001b[0m\u001b[1;33m(\u001b[0m\u001b[1;33m)\u001b[0m\u001b[1;33m\u001b[0m\u001b[0m\n\u001b[0;32m   1898\u001b[0m             \u001b[1;32melif\u001b[0m \u001b[0mrequest\u001b[0m \u001b[1;33m==\u001b[0m \u001b[1;34m'topics'\u001b[0m\u001b[1;33m:\u001b[0m \u001b[0mself\u001b[0m\u001b[1;33m.\u001b[0m\u001b[0mlisttopics\u001b[0m\u001b[1;33m(\u001b[0m\u001b[1;33m)\u001b[0m\u001b[1;33m\u001b[0m\u001b[0m\n\u001b[1;32m-> 1899\u001b[1;33m             \u001b[1;32melif\u001b[0m \u001b[0mrequest\u001b[0m \u001b[1;33m==\u001b[0m \u001b[1;34m'modules'\u001b[0m\u001b[1;33m:\u001b[0m \u001b[0mself\u001b[0m\u001b[1;33m.\u001b[0m\u001b[0mlistmodules\u001b[0m\u001b[1;33m(\u001b[0m\u001b[1;33m)\u001b[0m\u001b[1;33m\u001b[0m\u001b[0m\n\u001b[0m\u001b[0;32m   1900\u001b[0m             \u001b[1;32melif\u001b[0m \u001b[0mrequest\u001b[0m\u001b[1;33m[\u001b[0m\u001b[1;33m:\u001b[0m\u001b[1;36m8\u001b[0m\u001b[1;33m]\u001b[0m \u001b[1;33m==\u001b[0m \u001b[1;34m'modules '\u001b[0m\u001b[1;33m:\u001b[0m\u001b[1;33m\u001b[0m\u001b[0m\n\u001b[0;32m   1901\u001b[0m                 \u001b[0mself\u001b[0m\u001b[1;33m.\u001b[0m\u001b[0mlistmodules\u001b[0m\u001b[1;33m(\u001b[0m\u001b[0mrequest\u001b[0m\u001b[1;33m.\u001b[0m\u001b[0msplit\u001b[0m\u001b[1;33m(\u001b[0m\u001b[1;33m)\u001b[0m\u001b[1;33m[\u001b[0m\u001b[1;36m1\u001b[0m\u001b[1;33m]\u001b[0m\u001b[1;33m)\u001b[0m\u001b[1;33m\u001b[0m\u001b[0m\n",
      "\u001b[1;32m~\\Anaconda3\\lib\\pydoc.py\u001b[0m in \u001b[0;36mlistmodules\u001b[1;34m(self, key)\u001b[0m\n\u001b[0;32m   2048\u001b[0m             \u001b[1;32mdef\u001b[0m \u001b[0monerror\u001b[0m\u001b[1;33m(\u001b[0m\u001b[0mmodname\u001b[0m\u001b[1;33m)\u001b[0m\u001b[1;33m:\u001b[0m\u001b[1;33m\u001b[0m\u001b[0m\n\u001b[0;32m   2049\u001b[0m                 \u001b[0mcallback\u001b[0m\u001b[1;33m(\u001b[0m\u001b[1;32mNone\u001b[0m\u001b[1;33m,\u001b[0m \u001b[0mmodname\u001b[0m\u001b[1;33m,\u001b[0m \u001b[1;32mNone\u001b[0m\u001b[1;33m)\u001b[0m\u001b[1;33m\u001b[0m\u001b[0m\n\u001b[1;32m-> 2050\u001b[1;33m             \u001b[0mModuleScanner\u001b[0m\u001b[1;33m(\u001b[0m\u001b[1;33m)\u001b[0m\u001b[1;33m.\u001b[0m\u001b[0mrun\u001b[0m\u001b[1;33m(\u001b[0m\u001b[0mcallback\u001b[0m\u001b[1;33m,\u001b[0m \u001b[0monerror\u001b[0m\u001b[1;33m=\u001b[0m\u001b[0monerror\u001b[0m\u001b[1;33m)\u001b[0m\u001b[1;33m\u001b[0m\u001b[0m\n\u001b[0m\u001b[0;32m   2051\u001b[0m             \u001b[0mself\u001b[0m\u001b[1;33m.\u001b[0m\u001b[0mlist\u001b[0m\u001b[1;33m(\u001b[0m\u001b[0mmodules\u001b[0m\u001b[1;33m.\u001b[0m\u001b[0mkeys\u001b[0m\u001b[1;33m(\u001b[0m\u001b[1;33m)\u001b[0m\u001b[1;33m)\u001b[0m\u001b[1;33m\u001b[0m\u001b[0m\n\u001b[0;32m   2052\u001b[0m             self.output.write('''\n",
      "\u001b[1;32m~\\Anaconda3\\lib\\pydoc.py\u001b[0m in \u001b[0;36mrun\u001b[1;34m(self, callback, key, completer, onerror)\u001b[0m\n\u001b[0;32m   2077\u001b[0m                         \u001b[0mcallback\u001b[0m\u001b[1;33m(\u001b[0m\u001b[1;32mNone\u001b[0m\u001b[1;33m,\u001b[0m \u001b[0mmodname\u001b[0m\u001b[1;33m,\u001b[0m \u001b[0mdesc\u001b[0m\u001b[1;33m)\u001b[0m\u001b[1;33m\u001b[0m\u001b[0m\n\u001b[0;32m   2078\u001b[0m \u001b[1;33m\u001b[0m\u001b[0m\n\u001b[1;32m-> 2079\u001b[1;33m         \u001b[1;32mfor\u001b[0m \u001b[0mimporter\u001b[0m\u001b[1;33m,\u001b[0m \u001b[0mmodname\u001b[0m\u001b[1;33m,\u001b[0m \u001b[0mispkg\u001b[0m \u001b[1;32min\u001b[0m \u001b[0mpkgutil\u001b[0m\u001b[1;33m.\u001b[0m\u001b[0mwalk_packages\u001b[0m\u001b[1;33m(\u001b[0m\u001b[0monerror\u001b[0m\u001b[1;33m=\u001b[0m\u001b[0monerror\u001b[0m\u001b[1;33m)\u001b[0m\u001b[1;33m:\u001b[0m\u001b[1;33m\u001b[0m\u001b[0m\n\u001b[0m\u001b[0;32m   2080\u001b[0m             \u001b[1;32mif\u001b[0m \u001b[0mself\u001b[0m\u001b[1;33m.\u001b[0m\u001b[0mquit\u001b[0m\u001b[1;33m:\u001b[0m\u001b[1;33m\u001b[0m\u001b[0m\n\u001b[0;32m   2081\u001b[0m                 \u001b[1;32mbreak\u001b[0m\u001b[1;33m\u001b[0m\u001b[0m\n",
      "\u001b[1;32m~\\Anaconda3\\lib\\pkgutil.py\u001b[0m in \u001b[0;36mwalk_packages\u001b[1;34m(path, prefix, onerror)\u001b[0m\n\u001b[0;32m    105\u001b[0m                 \u001b[0mpath\u001b[0m \u001b[1;33m=\u001b[0m \u001b[1;33m[\u001b[0m\u001b[0mp\u001b[0m \u001b[1;32mfor\u001b[0m \u001b[0mp\u001b[0m \u001b[1;32min\u001b[0m \u001b[0mpath\u001b[0m \u001b[1;32mif\u001b[0m \u001b[1;32mnot\u001b[0m \u001b[0mseen\u001b[0m\u001b[1;33m(\u001b[0m\u001b[0mp\u001b[0m\u001b[1;33m)\u001b[0m\u001b[1;33m]\u001b[0m\u001b[1;33m\u001b[0m\u001b[0m\n\u001b[0;32m    106\u001b[0m \u001b[1;33m\u001b[0m\u001b[0m\n\u001b[1;32m--> 107\u001b[1;33m                 \u001b[1;32myield\u001b[0m \u001b[1;32mfrom\u001b[0m \u001b[0mwalk_packages\u001b[0m\u001b[1;33m(\u001b[0m\u001b[0mpath\u001b[0m\u001b[1;33m,\u001b[0m \u001b[0minfo\u001b[0m\u001b[1;33m.\u001b[0m\u001b[0mname\u001b[0m\u001b[1;33m+\u001b[0m\u001b[1;34m'.'\u001b[0m\u001b[1;33m,\u001b[0m \u001b[0monerror\u001b[0m\u001b[1;33m)\u001b[0m\u001b[1;33m\u001b[0m\u001b[0m\n\u001b[0m\u001b[0;32m    108\u001b[0m \u001b[1;33m\u001b[0m\u001b[0m\n\u001b[0;32m    109\u001b[0m \u001b[1;33m\u001b[0m\u001b[0m\n",
      "\u001b[1;32m~\\Anaconda3\\lib\\pkgutil.py\u001b[0m in \u001b[0;36mwalk_packages\u001b[1;34m(path, prefix, onerror)\u001b[0m\n\u001b[0;32m     90\u001b[0m         \u001b[1;32mif\u001b[0m \u001b[0minfo\u001b[0m\u001b[1;33m.\u001b[0m\u001b[0mispkg\u001b[0m\u001b[1;33m:\u001b[0m\u001b[1;33m\u001b[0m\u001b[0m\n\u001b[0;32m     91\u001b[0m             \u001b[1;32mtry\u001b[0m\u001b[1;33m:\u001b[0m\u001b[1;33m\u001b[0m\u001b[0m\n\u001b[1;32m---> 92\u001b[1;33m                 \u001b[0m__import__\u001b[0m\u001b[1;33m(\u001b[0m\u001b[0minfo\u001b[0m\u001b[1;33m.\u001b[0m\u001b[0mname\u001b[0m\u001b[1;33m)\u001b[0m\u001b[1;33m\u001b[0m\u001b[0m\n\u001b[0m\u001b[0;32m     93\u001b[0m             \u001b[1;32mexcept\u001b[0m \u001b[0mImportError\u001b[0m\u001b[1;33m:\u001b[0m\u001b[1;33m\u001b[0m\u001b[0m\n\u001b[0;32m     94\u001b[0m                 \u001b[1;32mif\u001b[0m \u001b[0monerror\u001b[0m \u001b[1;32mis\u001b[0m \u001b[1;32mnot\u001b[0m \u001b[1;32mNone\u001b[0m\u001b[1;33m:\u001b[0m\u001b[1;33m\u001b[0m\u001b[0m\n",
      "\u001b[1;32m~\\Anaconda3\\lib\\site-packages\\rope\\refactor\\__init__.py\u001b[0m in \u001b[0;36m<module>\u001b[1;34m()\u001b[0m\n\u001b[0;32m     46\u001b[0m \u001b[1;33m\u001b[0m\u001b[0m\n\u001b[0;32m     47\u001b[0m \"\"\"\n\u001b[1;32m---> 48\u001b[1;33m \u001b[1;32mfrom\u001b[0m \u001b[0mrope\u001b[0m\u001b[1;33m.\u001b[0m\u001b[0mrefactor\u001b[0m\u001b[1;33m.\u001b[0m\u001b[0mimportutils\u001b[0m \u001b[1;32mimport\u001b[0m \u001b[0mImportOrganizer\u001b[0m  \u001b[1;31m# noqa\u001b[0m\u001b[1;33m\u001b[0m\u001b[0m\n\u001b[0m\u001b[0;32m     49\u001b[0m \u001b[1;32mfrom\u001b[0m \u001b[0mrope\u001b[0m\u001b[1;33m.\u001b[0m\u001b[0mrefactor\u001b[0m\u001b[1;33m.\u001b[0m\u001b[0mtopackage\u001b[0m \u001b[1;32mimport\u001b[0m \u001b[0mModuleToPackage\u001b[0m  \u001b[1;31m# noqa\u001b[0m\u001b[1;33m\u001b[0m\u001b[0m\n\u001b[0;32m     50\u001b[0m \u001b[1;33m\u001b[0m\u001b[0m\n",
      "\u001b[1;32m~\\Anaconda3\\lib\\site-packages\\rope\\refactor\\importutils\\__init__.py\u001b[0m in \u001b[0;36m<module>\u001b[1;34m()\u001b[0m\n\u001b[0;32m      6\u001b[0m \"\"\"\n\u001b[0;32m      7\u001b[0m \u001b[1;32mimport\u001b[0m \u001b[0mrope\u001b[0m\u001b[1;33m.\u001b[0m\u001b[0mbase\u001b[0m\u001b[1;33m.\u001b[0m\u001b[0mevaluate\u001b[0m\u001b[1;33m\u001b[0m\u001b[0m\n\u001b[1;32m----> 8\u001b[1;33m \u001b[1;32mfrom\u001b[0m \u001b[0mrope\u001b[0m\u001b[1;33m.\u001b[0m\u001b[0mbase\u001b[0m \u001b[1;32mimport\u001b[0m \u001b[0mlibutils\u001b[0m\u001b[1;33m\u001b[0m\u001b[0m\n\u001b[0m\u001b[0;32m      9\u001b[0m \u001b[1;32mfrom\u001b[0m \u001b[0mrope\u001b[0m\u001b[1;33m.\u001b[0m\u001b[0mbase\u001b[0m\u001b[1;33m.\u001b[0m\u001b[0mchange\u001b[0m \u001b[1;32mimport\u001b[0m \u001b[0mChangeSet\u001b[0m\u001b[1;33m,\u001b[0m \u001b[0mChangeContents\u001b[0m\u001b[1;33m\u001b[0m\u001b[0m\n\u001b[0;32m     10\u001b[0m \u001b[1;32mfrom\u001b[0m \u001b[0mrope\u001b[0m\u001b[1;33m.\u001b[0m\u001b[0mrefactor\u001b[0m \u001b[1;32mimport\u001b[0m \u001b[0moccurrences\u001b[0m\u001b[1;33m,\u001b[0m \u001b[0mrename\u001b[0m\u001b[1;33m\u001b[0m\u001b[0m\n",
      "\u001b[1;32m~\\Anaconda3\\lib\\site-packages\\rope\\base\\libutils.py\u001b[0m in \u001b[0;36m<module>\u001b[1;34m()\u001b[0m\n\u001b[0;32m      2\u001b[0m \u001b[1;32mimport\u001b[0m \u001b[0mos\u001b[0m\u001b[1;33m.\u001b[0m\u001b[0mpath\u001b[0m\u001b[1;33m\u001b[0m\u001b[0m\n\u001b[0;32m      3\u001b[0m \u001b[1;33m\u001b[0m\u001b[0m\n\u001b[1;32m----> 4\u001b[1;33m \u001b[1;32mimport\u001b[0m \u001b[0mrope\u001b[0m\u001b[1;33m.\u001b[0m\u001b[0mbase\u001b[0m\u001b[1;33m.\u001b[0m\u001b[0mproject\u001b[0m\u001b[1;33m\u001b[0m\u001b[0m\n\u001b[0m\u001b[0;32m      5\u001b[0m \u001b[1;32mimport\u001b[0m \u001b[0mrope\u001b[0m\u001b[1;33m.\u001b[0m\u001b[0mbase\u001b[0m\u001b[1;33m.\u001b[0m\u001b[0mpycore\u001b[0m\u001b[1;33m\u001b[0m\u001b[0m\n\u001b[0;32m      6\u001b[0m \u001b[1;32mfrom\u001b[0m \u001b[0mrope\u001b[0m\u001b[1;33m.\u001b[0m\u001b[0mbase\u001b[0m \u001b[1;32mimport\u001b[0m \u001b[0mpyobjectsdef\u001b[0m\u001b[1;33m\u001b[0m\u001b[0m\n",
      "\u001b[1;32m~\\Anaconda3\\lib\\site-packages\\rope\\base\\project.py\u001b[0m in \u001b[0;36m<module>\u001b[1;34m()\u001b[0m\n\u001b[0;32m      7\u001b[0m \u001b[1;32mimport\u001b[0m \u001b[0mrope\u001b[0m\u001b[1;33m.\u001b[0m\u001b[0mbase\u001b[0m\u001b[1;33m.\u001b[0m\u001b[0mresourceobserver\u001b[0m \u001b[1;32mas\u001b[0m \u001b[0mresourceobserver\u001b[0m\u001b[1;33m\u001b[0m\u001b[0m\n\u001b[0;32m      8\u001b[0m \u001b[1;32mimport\u001b[0m \u001b[0mrope\u001b[0m\u001b[1;33m.\u001b[0m\u001b[0mbase\u001b[0m\u001b[1;33m.\u001b[0m\u001b[0mutils\u001b[0m\u001b[1;33m.\u001b[0m\u001b[0mpycompat\u001b[0m \u001b[1;32mas\u001b[0m \u001b[0mpycompat\u001b[0m\u001b[1;33m\u001b[0m\u001b[0m\n\u001b[1;32m----> 9\u001b[1;33m \u001b[1;32mfrom\u001b[0m \u001b[0mrope\u001b[0m\u001b[1;33m.\u001b[0m\u001b[0mbase\u001b[0m \u001b[1;32mimport\u001b[0m \u001b[0mexceptions\u001b[0m\u001b[1;33m,\u001b[0m \u001b[0mtaskhandle\u001b[0m\u001b[1;33m,\u001b[0m \u001b[0mprefs\u001b[0m\u001b[1;33m,\u001b[0m \u001b[0mhistory\u001b[0m\u001b[1;33m,\u001b[0m \u001b[0mpycore\u001b[0m\u001b[1;33m,\u001b[0m \u001b[0mutils\u001b[0m\u001b[1;33m\u001b[0m\u001b[0m\n\u001b[0m\u001b[0;32m     10\u001b[0m \u001b[1;32mfrom\u001b[0m \u001b[0mrope\u001b[0m\u001b[1;33m.\u001b[0m\u001b[0mbase\u001b[0m\u001b[1;33m.\u001b[0m\u001b[0mexceptions\u001b[0m \u001b[1;32mimport\u001b[0m \u001b[0mModuleNotFoundError\u001b[0m\u001b[1;33m\u001b[0m\u001b[0m\n\u001b[0;32m     11\u001b[0m \u001b[1;32mfrom\u001b[0m \u001b[0mrope\u001b[0m\u001b[1;33m.\u001b[0m\u001b[0mbase\u001b[0m\u001b[1;33m.\u001b[0m\u001b[0mresources\u001b[0m \u001b[1;32mimport\u001b[0m \u001b[0mFile\u001b[0m\u001b[1;33m,\u001b[0m \u001b[0mFolder\u001b[0m\u001b[1;33m,\u001b[0m \u001b[0m_ResourceMatcher\u001b[0m\u001b[1;33m\u001b[0m\u001b[0m\n",
      "\u001b[1;32m~\\Anaconda3\\lib\\site-packages\\rope\\base\\pycore.py\u001b[0m in \u001b[0;36m<module>\u001b[1;34m()\u001b[0m\n\u001b[0;32m      8\u001b[0m \u001b[1;32mimport\u001b[0m \u001b[0mrope\u001b[0m\u001b[1;33m.\u001b[0m\u001b[0mbase\u001b[0m\u001b[1;33m.\u001b[0m\u001b[0mresources\u001b[0m\u001b[1;33m\u001b[0m\u001b[0m\n\u001b[0;32m      9\u001b[0m \u001b[1;32mimport\u001b[0m \u001b[0mrope\u001b[0m\u001b[1;33m.\u001b[0m\u001b[0mbase\u001b[0m\u001b[1;33m.\u001b[0m\u001b[0moi\u001b[0m\u001b[1;33m.\u001b[0m\u001b[0mdoa\u001b[0m\u001b[1;33m\u001b[0m\u001b[0m\n\u001b[1;32m---> 10\u001b[1;33m \u001b[1;32mimport\u001b[0m \u001b[0mrope\u001b[0m\u001b[1;33m.\u001b[0m\u001b[0mbase\u001b[0m\u001b[1;33m.\u001b[0m\u001b[0moi\u001b[0m\u001b[1;33m.\u001b[0m\u001b[0mobjectinfo\u001b[0m\u001b[1;33m\u001b[0m\u001b[0m\n\u001b[0m\u001b[0;32m     11\u001b[0m \u001b[1;32mimport\u001b[0m \u001b[0mrope\u001b[0m\u001b[1;33m.\u001b[0m\u001b[0mbase\u001b[0m\u001b[1;33m.\u001b[0m\u001b[0moi\u001b[0m\u001b[1;33m.\u001b[0m\u001b[0msoa\u001b[0m\u001b[1;33m\u001b[0m\u001b[0m\n\u001b[0;32m     12\u001b[0m \u001b[1;32mfrom\u001b[0m \u001b[0mrope\u001b[0m\u001b[1;33m.\u001b[0m\u001b[0mbase\u001b[0m \u001b[1;32mimport\u001b[0m \u001b[0mbuiltins\u001b[0m\u001b[1;33m\u001b[0m\u001b[0m\n",
      "\u001b[1;32m~\\Anaconda3\\lib\\site-packages\\rope\\base\\oi\\objectinfo.py\u001b[0m in \u001b[0;36m<module>\u001b[1;34m()\u001b[0m\n\u001b[0;32m      2\u001b[0m \u001b[1;33m\u001b[0m\u001b[0m\n\u001b[0;32m      3\u001b[0m \u001b[1;32mfrom\u001b[0m \u001b[0mrope\u001b[0m\u001b[1;33m.\u001b[0m\u001b[0mbase\u001b[0m \u001b[1;32mimport\u001b[0m \u001b[0mexceptions\u001b[0m\u001b[1;33m,\u001b[0m \u001b[0mresourceobserver\u001b[0m\u001b[1;33m\u001b[0m\u001b[0m\n\u001b[1;32m----> 4\u001b[1;33m \u001b[1;32mfrom\u001b[0m \u001b[0mrope\u001b[0m\u001b[1;33m.\u001b[0m\u001b[0mbase\u001b[0m\u001b[1;33m.\u001b[0m\u001b[0moi\u001b[0m \u001b[1;32mimport\u001b[0m \u001b[0mobjectdb\u001b[0m\u001b[1;33m,\u001b[0m \u001b[0mmemorydb\u001b[0m\u001b[1;33m,\u001b[0m \u001b[0mtransform\u001b[0m\u001b[1;33m\u001b[0m\u001b[0m\n\u001b[0m\u001b[0;32m      5\u001b[0m \u001b[1;33m\u001b[0m\u001b[0m\n\u001b[0;32m      6\u001b[0m \u001b[1;33m\u001b[0m\u001b[0m\n",
      "\u001b[1;32m~\\Anaconda3\\lib\\importlib\\_bootstrap.py\u001b[0m in \u001b[0;36m_find_and_load\u001b[1;34m(name, import_)\u001b[0m\n",
      "\u001b[1;32m~\\Anaconda3\\lib\\importlib\\_bootstrap.py\u001b[0m in \u001b[0;36m_find_and_load_unlocked\u001b[1;34m(name, import_)\u001b[0m\n",
      "\u001b[1;32m~\\Anaconda3\\lib\\importlib\\_bootstrap.py\u001b[0m in \u001b[0;36m_load_unlocked\u001b[1;34m(spec)\u001b[0m\n",
      "\u001b[1;32m~\\Anaconda3\\lib\\importlib\\_bootstrap_external.py\u001b[0m in \u001b[0;36mexec_module\u001b[1;34m(self, module)\u001b[0m\n",
      "\u001b[1;32m~\\Anaconda3\\lib\\importlib\\_bootstrap_external.py\u001b[0m in \u001b[0;36mget_code\u001b[1;34m(self, fullname)\u001b[0m\n",
      "\u001b[1;32m~\\Anaconda3\\lib\\importlib\\_bootstrap_external.py\u001b[0m in \u001b[0;36mget_data\u001b[1;34m(self, path)\u001b[0m\n",
      "\u001b[1;31mKeyboardInterrupt\u001b[0m: "
     ]
    }
   ],
   "source": [
    "help()"
   ]
  },
  {
   "cell_type": "code",
   "execution_count": 5,
   "metadata": {
    "collapsed": true
   },
   "outputs": [],
   "source": [
    "import platform"
   ]
  },
  {
   "cell_type": "code",
   "execution_count": 6,
   "metadata": {},
   "outputs": [
    {
     "data": {
      "text/plain": [
       "'.'"
      ]
     },
     "execution_count": 6,
     "metadata": {},
     "output_type": "execute_result"
    }
   ],
   "source": [
    "platform.os.curdir"
   ]
  },
  {
   "cell_type": "code",
   "execution_count": 7,
   "metadata": {},
   "outputs": [
    {
     "data": {
      "text/plain": [
       "<function nt.cpu_count>"
      ]
     },
     "execution_count": 7,
     "metadata": {},
     "output_type": "execute_result"
    }
   ],
   "source": [
    "platform.os.cpu_count"
   ]
  },
  {
   "cell_type": "code",
   "execution_count": 8,
   "metadata": {},
   "outputs": [
    {
     "data": {
      "text/plain": [
       "4"
      ]
     },
     "execution_count": 8,
     "metadata": {},
     "output_type": "execute_result"
    }
   ],
   "source": [
    "platform.os.cpu_count()"
   ]
  },
  {
   "cell_type": "code",
   "execution_count": 9,
   "metadata": {
    "collapsed": true
   },
   "outputs": [],
   "source": [
    "import datetime as d"
   ]
  },
  {
   "cell_type": "code",
   "execution_count": 10,
   "metadata": {},
   "outputs": [
    {
     "data": {
      "text/plain": [
       "datetime.datetime"
      ]
     },
     "execution_count": 10,
     "metadata": {},
     "output_type": "execute_result"
    }
   ],
   "source": [
    "d.datetime"
   ]
  },
  {
   "cell_type": "code",
   "execution_count": 11,
   "metadata": {},
   "outputs": [
    {
     "data": {
      "text/plain": [
       "<method 'date' of 'datetime.datetime' objects>"
      ]
     },
     "execution_count": 11,
     "metadata": {},
     "output_type": "execute_result"
    }
   ],
   "source": [
    "d.datetime.date"
   ]
  },
  {
   "cell_type": "code",
   "execution_count": 12,
   "metadata": {},
   "outputs": [
    {
     "ename": "TypeError",
     "evalue": "descriptor 'date' of 'datetime.datetime' object needs an argument",
     "output_type": "error",
     "traceback": [
      "\u001b[1;31m---------------------------------------------------------------------------\u001b[0m",
      "\u001b[1;31mTypeError\u001b[0m                                 Traceback (most recent call last)",
      "\u001b[1;32m<ipython-input-12-19ab305fadf5>\u001b[0m in \u001b[0;36m<module>\u001b[1;34m()\u001b[0m\n\u001b[1;32m----> 1\u001b[1;33m \u001b[0md\u001b[0m\u001b[1;33m.\u001b[0m\u001b[0mdatetime\u001b[0m\u001b[1;33m.\u001b[0m\u001b[0mdate\u001b[0m\u001b[1;33m(\u001b[0m\u001b[1;33m)\u001b[0m\u001b[1;33m\u001b[0m\u001b[0m\n\u001b[0m",
      "\u001b[1;31mTypeError\u001b[0m: descriptor 'date' of 'datetime.datetime' object needs an argument"
     ]
    }
   ],
   "source": [
    "d.datetime.date()"
   ]
  },
  {
   "cell_type": "code",
   "execution_count": 13,
   "metadata": {},
   "outputs": [
    {
     "ename": "TypeError",
     "evalue": "descriptor 'date' requires a 'datetime.datetime' object but received a 'str'",
     "output_type": "error",
     "traceback": [
      "\u001b[1;31m---------------------------------------------------------------------------\u001b[0m",
      "\u001b[1;31mTypeError\u001b[0m                                 Traceback (most recent call last)",
      "\u001b[1;32m<ipython-input-13-f23ca7620d99>\u001b[0m in \u001b[0;36m<module>\u001b[1;34m()\u001b[0m\n\u001b[1;32m----> 1\u001b[1;33m \u001b[0md\u001b[0m\u001b[1;33m.\u001b[0m\u001b[0mdatetime\u001b[0m\u001b[1;33m.\u001b[0m\u001b[0mdate\u001b[0m\u001b[1;33m(\u001b[0m\u001b[1;34m'2018-01-09'\u001b[0m\u001b[1;33m)\u001b[0m\u001b[1;33m\u001b[0m\u001b[0m\n\u001b[0m",
      "\u001b[1;31mTypeError\u001b[0m: descriptor 'date' requires a 'datetime.datetime' object but received a 'str'"
     ]
    }
   ],
   "source": [
    "d.datetime.date('2018-01-09')"
   ]
  },
  {
   "cell_type": "code",
   "execution_count": 14,
   "metadata": {},
   "outputs": [
    {
     "data": {
      "text/plain": [
       "<function datetime.today>"
      ]
     },
     "execution_count": 14,
     "metadata": {},
     "output_type": "execute_result"
    }
   ],
   "source": [
    "d.datetime.today"
   ]
  },
  {
   "cell_type": "code",
   "execution_count": 15,
   "metadata": {},
   "outputs": [
    {
     "data": {
      "text/plain": [
       "datetime.datetime(2018, 11, 10, 10, 59, 42, 74213)"
      ]
     },
     "execution_count": 15,
     "metadata": {},
     "output_type": "execute_result"
    }
   ],
   "source": [
    "d.datetime.today()"
   ]
  },
  {
   "cell_type": "code",
   "execution_count": 16,
   "metadata": {},
   "outputs": [
    {
     "data": {
      "text/plain": [
       "datetime.date(2018, 11, 10)"
      ]
     },
     "execution_count": 16,
     "metadata": {},
     "output_type": "execute_result"
    }
   ],
   "source": [
    "d.datetime.date(d.datetime.today())"
   ]
  },
  {
   "cell_type": "code",
   "execution_count": 17,
   "metadata": {},
   "outputs": [
    {
     "name": "stdout",
     "output_type": "stream",
     "text": [
      "2018-11-10 11:00:44.726424\n"
     ]
    }
   ],
   "source": [
    "print(d.datetime.today())"
   ]
  },
  {
   "cell_type": "code",
   "execution_count": 18,
   "metadata": {},
   "outputs": [
    {
     "name": "stdout",
     "output_type": "stream",
     "text": [
      "2018-11-10 11:01:04.617218\n"
     ]
    }
   ],
   "source": [
    "print(str(d.datetime.today()))"
   ]
  },
  {
   "cell_type": "code",
   "execution_count": 111,
   "metadata": {
    "collapsed": true
   },
   "outputs": [],
   "source": [
    "def matchString(randstr = None):\n",
    "    i = 0\n",
    "    givenStr = \"methinks it is like a weasel\"\n",
    "    words = givenStr.split()\n",
    "    \n",
    "    for word in words:\n",
    "        if randstr == word:\n",
    "            i += 1\n",
    "            return word\n",
    "    \n",
    "    return False"
   ]
  },
  {
   "cell_type": "code",
   "execution_count": null,
   "metadata": {
    "collapsed": true
   },
   "outputs": [],
   "source": [
    "str.split"
   ]
  },
  {
   "cell_type": "code",
   "execution_count": 60,
   "metadata": {},
   "outputs": [
    {
     "name": "stdout",
     "output_type": "stream",
     "text": [
      "methinks\n",
      "it\n",
      "is\n",
      "like\n",
      "a\n",
      "weasel\n"
     ]
    }
   ],
   "source": [
    "matchString()"
   ]
  },
  {
   "cell_type": "code",
   "execution_count": 69,
   "metadata": {},
   "outputs": [
    {
     "name": "stdout",
     "output_type": "stream",
     "text": [
      "<class 'random.Random'>\n",
      "0.28500611879158033\n"
     ]
    },
    {
     "data": {
      "text/plain": [
       "86"
      ]
     },
     "execution_count": 69,
     "metadata": {},
     "output_type": "execute_result"
    }
   ],
   "source": [
    "import random as r\n",
    "print(r.Random)\n",
    "print(r.random())\n",
    "r.randint(65,97)"
   ]
  },
  {
   "cell_type": "code",
   "execution_count": 79,
   "metadata": {},
   "outputs": [
    {
     "ename": "TypeError",
     "evalue": "to_bytes() argument 2 must be str, not int",
     "output_type": "error",
     "traceback": [
      "\u001b[1;31m---------------------------------------------------------------------------\u001b[0m",
      "\u001b[1;31mTypeError\u001b[0m                                 Traceback (most recent call last)",
      "\u001b[1;32m<ipython-input-79-053873f3e069>\u001b[0m in \u001b[0;36m<module>\u001b[1;34m()\u001b[0m\n\u001b[0;32m      1\u001b[0m \u001b[0mn\u001b[0m \u001b[1;33m=\u001b[0m \u001b[1;36m91\u001b[0m\u001b[1;33m\u001b[0m\u001b[0m\n\u001b[1;32m----> 2\u001b[1;33m \u001b[0mn\u001b[0m\u001b[1;33m.\u001b[0m\u001b[0mto_bytes\u001b[0m\u001b[1;33m(\u001b[0m\u001b[1;36m1\u001b[0m\u001b[1;33m,\u001b[0m\u001b[1;36m1\u001b[0m\u001b[1;33m)\u001b[0m\u001b[1;33m\u001b[0m\u001b[0m\n\u001b[0m",
      "\u001b[1;31mTypeError\u001b[0m: to_bytes() argument 2 must be str, not int"
     ]
    }
   ],
   "source": [
    "n = 91\n",
    "n.to_bytes(1,1)"
   ]
  },
  {
   "cell_type": "code",
   "execution_count": 93,
   "metadata": {},
   "outputs": [
    {
     "data": {
      "text/plain": [
       "'z'"
      ]
     },
     "execution_count": 93,
     "metadata": {},
     "output_type": "execute_result"
    }
   ],
   "source": [
    "chr(97)\n",
    "chr(122)\n",
    "#repr('a')\n",
    "#ord('97')"
   ]
  },
  {
   "cell_type": "code",
   "execution_count": 103,
   "metadata": {
    "collapsed": true
   },
   "outputs": [],
   "source": [
    "import random \n",
    "def generateRandChr():\n",
    "    i = random.randint(97,122)\n",
    "    c = chr(i)\n",
    "    return c\n",
    "\n",
    "def generateRandStr():    \n",
    "    j = random.randint(1,8)\n",
    "    randomstr = ''\n",
    "    for k in range(j):\n",
    "        randomstr += generateRandChr()\n",
    "    return randomstr    "
   ]
  },
  {
   "cell_type": "code",
   "execution_count": 125,
   "metadata": {
    "collapsed": true
   },
   "outputs": [
    {
     "name": "stdout",
     "output_type": "stream",
     "text": [
      "Wall time: 0 ns\n",
      "zapgyuu False 1\n",
      "Wall time: 0 ns\n",
      "pwrzd False 2\n",
      "Wall time: 0 ns\n",
      "hf False 3\n",
      "Wall time: 0 ns\n",
      "fggs False 4\n",
      "Wall time: 0 ns\n",
      "uumqxjw False 5\n",
      "Wall time: 0 ns\n",
      "yortwicv False 6\n",
      "Wall time: 0 ns\n",
      "klqarpj False 7\n",
      "Wall time: 0 ns\n",
      "goy False 8\n",
      "Wall time: 0 ns\n",
      "gnhhdeol False 9\n",
      "Wall time: 0 ns\n",
      "wizaw False 10\n",
      "Wall time: 0 ns\n",
      "mpxqjv False 11\n",
      "Wall time: 0 ns\n",
      "osp False 12\n",
      "Wall time: 0 ns\n",
      "eppb False 13\n",
      "Wall time: 0 ns\n",
      "k False 14\n",
      "Wall time: 0 ns\n",
      "puxvroj False 15\n",
      "Wall time: 0 ns\n",
      "p False 16\n",
      "Wall time: 0 ns\n",
      "g False 17\n",
      "Wall time: 0 ns\n",
      "kwi False 18\n",
      "Wall time: 0 ns\n",
      "xcexzwv False 19\n",
      "Wall time: 0 ns\n",
      "zjhcmywj False 20\n",
      "Wall time: 0 ns\n",
      "zlyf False 21\n",
      "Wall time: 0 ns\n",
      "ajnxxcob False 22\n",
      "Wall time: 0 ns\n",
      "fkx False 23\n",
      "Wall time: 0 ns\n",
      "keyj False 24\n",
      "Wall time: 0 ns\n",
      "acr False 25\n",
      "Wall time: 0 ns\n",
      "gqqopm False 26\n",
      "Wall time: 0 ns\n",
      "vgmmhyy False 27\n",
      "Wall time: 0 ns\n",
      "yetgu False 28\n",
      "Wall time: 0 ns\n",
      "xlztrb False 29\n",
      "Wall time: 0 ns\n",
      "fuobo False 30\n",
      "Wall time: 0 ns\n",
      "pt False 31\n",
      "Wall time: 0 ns\n",
      "leagc False 32\n",
      "Wall time: 0 ns\n",
      "enewnme False 33\n",
      "Wall time: 0 ns\n",
      "etnegk False 34\n",
      "Wall time: 0 ns\n",
      "jlekgg False 35\n",
      "Wall time: 0 ns\n",
      "eo False 36\n",
      "Wall time: 0 ns\n",
      "am False 37\n",
      "Wall time: 0 ns\n",
      "igna False 38\n",
      "Wall time: 0 ns\n",
      "bqekk False 39\n",
      "Wall time: 0 ns\n",
      "iypgcuuw False 40\n",
      "Wall time: 0 ns\n",
      "e False 41\n",
      "Wall time: 0 ns\n",
      "jswnb False 42\n",
      "Wall time: 0 ns\n",
      "akq False 43\n",
      "Wall time: 0 ns\n",
      "ztm False 44\n",
      "Wall time: 0 ns\n",
      "iza False 45\n",
      "Wall time: 0 ns\n",
      "kynuldlf False 46\n",
      "Wall time: 0 ns\n",
      "af False 47\n",
      "Wall time: 0 ns\n",
      "fwo False 48\n",
      "Wall time: 0 ns\n",
      "yvnbtxr False 49\n",
      "Wall time: 0 ns\n",
      "l False 50\n",
      "Wall time: 0 ns\n",
      "aiuybe False 51\n",
      "Wall time: 0 ns\n",
      "ydzz False 52\n",
      "Wall time: 0 ns\n",
      "fcolv False 53\n",
      "Wall time: 0 ns\n",
      "hjv False 54\n",
      "Wall time: 0 ns\n",
      "owfloiy False 55\n",
      "Wall time: 0 ns\n",
      "fivkna False 56\n",
      "Wall time: 0 ns\n",
      "e False 57\n",
      "Wall time: 0 ns\n",
      "mjmori False 58\n",
      "Wall time: 0 ns\n",
      "fk False 59\n",
      "Wall time: 0 ns\n",
      "uagama False 60\n",
      "Wall time: 0 ns\n",
      "hcwduud False 61\n",
      "Wall time: 0 ns\n",
      "oartnst False 62\n",
      "Wall time: 0 ns\n",
      "sigov False 63\n",
      "Wall time: 0 ns\n",
      "j False 64\n",
      "Wall time: 0 ns\n",
      "vtiq False 65\n",
      "Wall time: 0 ns\n",
      "pebv False 66\n",
      "Wall time: 0 ns\n",
      "l False 67\n",
      "Wall time: 0 ns\n",
      "ghkrzsf False 68\n",
      "Wall time: 0 ns\n",
      "mad False 69\n",
      "Wall time: 0 ns\n",
      "rwq False 70\n",
      "Wall time: 0 ns\n",
      "jcbfmxrz False 71\n",
      "Wall time: 0 ns\n",
      "zhvnmp False 72\n",
      "Wall time: 0 ns\n",
      "conbqibt False 73\n",
      "Wall time: 0 ns\n",
      "fc False 74\n",
      "Wall time: 0 ns\n",
      "laoij False 75\n",
      "Wall time: 0 ns\n",
      "itzxjce False 76\n",
      "Wall time: 0 ns\n",
      "fxrp False 77\n",
      "Wall time: 0 ns\n",
      "riipvjoy False 78\n",
      "Wall time: 0 ns\n",
      "zqvol False 79\n",
      "Wall time: 0 ns\n",
      "bn False 80\n",
      "Wall time: 0 ns\n",
      "ymt False 81\n",
      "Wall time: 0 ns\n",
      "uksy False 82\n",
      "Wall time: 0 ns\n",
      "oavvdez False 83\n",
      "Wall time: 0 ns\n",
      "is is 84\n"
     ]
    }
   ],
   "source": [
    "i = 0\n",
    "result = False\n",
    "while result == False:\n",
    "    %time\n",
    "    randstr = generateRandStr()\n",
    "    result = matchString(randstr)\n",
    "    i += 1\n",
    "    print(randstr, result, i)\n",
    "    "
   ]
  },
  {
   "cell_type": "code",
   "execution_count": 130,
   "metadata": {},
   "outputs": [
    {
     "data": {
      "text/plain": [
       "'0x11'"
      ]
     },
     "execution_count": 130,
     "metadata": {},
     "output_type": "execute_result"
    }
   ],
   "source": [
    "hex(17)"
   ]
  },
  {
   "cell_type": "code",
   "execution_count": 131,
   "metadata": {},
   "outputs": [
    {
     "data": {
      "text/plain": [
       "'0x10'"
      ]
     },
     "execution_count": 131,
     "metadata": {},
     "output_type": "execute_result"
    }
   ],
   "source": [
    "hex(16)"
   ]
  },
  {
   "cell_type": "code",
   "execution_count": 251,
   "metadata": {},
   "outputs": [
    {
     "data": {
      "text/plain": [
       "str"
      ]
     },
     "execution_count": 251,
     "metadata": {},
     "output_type": "execute_result"
    }
   ],
   "source": [
    "type(hex(17))"
   ]
  },
  {
   "cell_type": "code",
   "execution_count": 168,
   "metadata": {},
   "outputs": [
    {
     "data": {
      "text/plain": [
       "'0x113'"
      ]
     },
     "execution_count": 168,
     "metadata": {},
     "output_type": "execute_result"
    }
   ],
   "source": [
    "hex(275)"
   ]
  },
  {
   "cell_type": "code",
   "execution_count": 245,
   "metadata": {
    "collapsed": true
   },
   "outputs": [],
   "source": [
    "def myHex(n):    \n",
    "    dividend,rem = _myHex(n)\n",
    "    return str(dividend) + str(rem)"
   ]
  },
  {
   "cell_type": "code",
   "execution_count": 244,
   "metadata": {
    "collapsed": true
   },
   "outputs": [],
   "source": [
    "def changeDecimal(n):\n",
    "        x = n - 10 + 97\n",
    "        return chr(x)\n",
    "            "
   ]
  },
  {
   "cell_type": "code",
   "execution_count": 243,
   "metadata": {
    "collapsed": true
   },
   "outputs": [],
   "source": [
    "def _myHex(n,lastrem= None):\n",
    "    rem = n % 16 \n",
    "    div = int(n/16)\n",
    "    if rem > 9 and rem < 16:\n",
    "        rem = changeDecimal(rem)\n",
    "    if div > 9 and div < 16:     \n",
    "        div = changeDecimal(div)\n",
    "    elif div >= 16:\n",
    "        div,rem = _myHex(div,rem)      \n",
    "        \n",
    "    if lastrem != None:\n",
    "        rem = str(rem) + str(lastrem)\n",
    "    else:\n",
    "        rem = str(rem)\n",
    "    return (div,rem)"
   ]
  },
  {
   "cell_type": "code",
   "execution_count": 246,
   "metadata": {},
   "outputs": [
    {
     "name": "stdout",
     "output_type": "stream",
     "text": [
      "255 ff 0xff\n",
      "256 100 0x100\n",
      "257 101 0x101\n",
      "258 102 0x102\n",
      "259 103 0x103\n",
      "260 104 0x104\n",
      "261 105 0x105\n",
      "262 106 0x106\n",
      "263 107 0x107\n",
      "264 108 0x108\n",
      "265 109 0x109\n",
      "266 10a 0x10a\n",
      "267 10b 0x10b\n",
      "268 10c 0x10c\n",
      "269 10d 0x10d\n",
      "270 10e 0x10e\n",
      "271 10f 0x10f\n",
      "272 110 0x110\n",
      "273 111 0x111\n",
      "274 112 0x112\n",
      "275 113 0x113\n",
      "276 114 0x114\n",
      "277 115 0x115\n",
      "278 116 0x116\n"
     ]
    }
   ],
   "source": [
    "i = 255\n",
    "while (i < 279):\n",
    "    print(i, myHex(i), hex(i))\n",
    "    i += 1"
   ]
  },
  {
   "cell_type": "code",
   "execution_count": 250,
   "metadata": {},
   "outputs": [
    {
     "name": "stdout",
     "output_type": "stream",
     "text": [
      "20 14 0x14\n",
      "21 15 0x15\n",
      "22 16 0x16\n",
      "23 17 0x17\n",
      "24 18 0x18\n",
      "25 19 0x19\n",
      "26 1a 0x1a\n",
      "27 1b 0x1b\n",
      "200 c8 0xc8\n",
      "201 c9 0xc9\n",
      "202 ca 0xca\n",
      "203 cb 0xcb\n",
      "113555 1bb93 0x1bb93\n",
      "113556 1bb94 0x1bb94\n",
      "113557 1bb95 0x1bb95\n",
      "113558 1bb96 0x1bb96\n"
     ]
    }
   ],
   "source": [
    "i = 20\n",
    "while (i < 28):\n",
    "    print(i, myHex(i), hex(i))\n",
    "    i += 1\n",
    "i = 200\n",
    "while (i < 204):\n",
    "    print(i, myHex(i), hex(i))\n",
    "    i += 1\n",
    "i = 113555\n",
    "while (i < 113559):\n",
    "    print(i, myHex(i), hex(i))\n",
    "    i += 1"
   ]
  },
  {
   "cell_type": "code",
   "execution_count": 252,
   "metadata": {},
   "outputs": [
    {
     "ename": "SyntaxError",
     "evalue": "invalid syntax (<ipython-input-252-24be69d9d65d>, line 1)",
     "output_type": "error",
     "traceback": [
      "\u001b[1;36m  File \u001b[1;32m\"<ipython-input-252-24be69d9d65d>\"\u001b[1;36m, line \u001b[1;32m1\u001b[0m\n\u001b[1;33m    4.to_bytes\u001b[0m\n\u001b[1;37m             ^\u001b[0m\n\u001b[1;31mSyntaxError\u001b[0m\u001b[1;31m:\u001b[0m invalid syntax\n"
     ]
    }
   ],
   "source": [
    "4.to_bytes"
   ]
  },
  {
   "cell_type": "code",
   "execution_count": 267,
   "metadata": {},
   "outputs": [
    {
     "data": {
      "text/plain": [
       "4"
      ]
     },
     "execution_count": 267,
     "metadata": {},
     "output_type": "execute_result"
    }
   ],
   "source": [
    "import sys\n",
    "n= 4\n",
    "n.to_bytes(8, 'big')\n",
    "#n.to_bytes(8, 'little')\n",
    "#n.to_bytes(8, sys.byteorder)\n",
    "n.bit_length()\n",
    "n.conjugate()"
   ]
  },
  {
   "cell_type": "code",
   "execution_count": 268,
   "metadata": {},
   "outputs": [
    {
     "data": {
      "text/plain": [
       "'0b1010'"
      ]
     },
     "execution_count": 268,
     "metadata": {},
     "output_type": "execute_result"
    }
   ],
   "source": [
    "bin(10)"
   ]
  },
  {
   "cell_type": "code",
   "execution_count": 283,
   "metadata": {},
   "outputs": [
    {
     "data": {
      "text/plain": [
       "1010"
      ]
     },
     "execution_count": 283,
     "metadata": {},
     "output_type": "execute_result"
    }
   ],
   "source": [
    "int(bin(10)[2:])"
   ]
  },
  {
   "cell_type": "code",
   "execution_count": 275,
   "metadata": {},
   "outputs": [
    {
     "data": {
      "text/plain": [
       "'0b10100b1010'"
      ]
     },
     "execution_count": 275,
     "metadata": {},
     "output_type": "execute_result"
    }
   ],
   "source": [
    "bin(10) * 2"
   ]
  },
  {
   "cell_type": "code",
   "execution_count": 277,
   "metadata": {},
   "outputs": [
    {
     "data": {
      "text/plain": [
       "'00001010'"
      ]
     },
     "execution_count": 277,
     "metadata": {},
     "output_type": "execute_result"
    }
   ],
   "source": [
    "\"{0:08b}\".format(10)"
   ]
  },
  {
   "cell_type": "code",
   "execution_count": 278,
   "metadata": {},
   "outputs": [
    {
     "data": {
      "text/plain": [
       "'1010'"
      ]
     },
     "execution_count": 278,
     "metadata": {},
     "output_type": "execute_result"
    }
   ],
   "source": [
    "f\"{10:b}\"\n"
   ]
  },
  {
   "cell_type": "code",
   "execution_count": 284,
   "metadata": {},
   "outputs": [
    {
     "data": {
      "text/plain": [
       "str"
      ]
     },
     "execution_count": 284,
     "metadata": {},
     "output_type": "execute_result"
    }
   ],
   "source": [
    "type(f\"{10:b}\")"
   ]
  },
  {
   "cell_type": "code",
   "execution_count": 285,
   "metadata": {},
   "outputs": [
    {
     "data": {
      "text/plain": [
       "20"
      ]
     },
     "execution_count": 285,
     "metadata": {},
     "output_type": "execute_result"
    }
   ],
   "source": [
    "i = 10 \n",
    "i << 1"
   ]
  },
  {
   "cell_type": "code",
   "execution_count": 286,
   "metadata": {},
   "outputs": [
    {
     "data": {
      "text/plain": [
       "5"
      ]
     },
     "execution_count": 286,
     "metadata": {},
     "output_type": "execute_result"
    }
   ],
   "source": [
    "i >> 1"
   ]
  },
  {
   "cell_type": "code",
   "execution_count": 288,
   "metadata": {},
   "outputs": [
    {
     "data": {
      "text/plain": [
       "-11"
      ]
     },
     "execution_count": 288,
     "metadata": {},
     "output_type": "execute_result"
    }
   ],
   "source": [
    "~(i)"
   ]
  },
  {
   "cell_type": "code",
   "execution_count": 289,
   "metadata": {
    "collapsed": true
   },
   "outputs": [],
   "source": [
    "#This accepts an arbitrary number or arguments:\n",
    "\n",
    "def bin_add(*args): return bin(sum(int(x, 2) for x in args))[2:]"
   ]
  },
  {
   "cell_type": "code",
   "execution_count": 290,
   "metadata": {},
   "outputs": [
    {
     "data": {
      "text/plain": [
       "'111'"
      ]
     },
     "execution_count": 290,
     "metadata": {},
     "output_type": "execute_result"
    }
   ],
   "source": [
    "bin_add('1', '10', '100')"
   ]
  },
  {
   "cell_type": "code",
   "execution_count": 295,
   "metadata": {},
   "outputs": [
    {
     "name": "stdout",
     "output_type": "stream",
     "text": [
      "0b10001\n",
      "-0b10010\n"
     ]
    },
    {
     "data": {
      "text/plain": [
       "'b1'"
      ]
     },
     "execution_count": 295,
     "metadata": {},
     "output_type": "execute_result"
    }
   ],
   "source": [
    "i = 17\n",
    "print(bin(i))\n",
    "print(bin(~(i)))\n",
    "bin_add(bin(i), bin(~(i)))\n"
   ]
  },
  {
   "cell_type": "code",
   "execution_count": 292,
   "metadata": {},
   "outputs": [
    {
     "ename": "TypeError",
     "evalue": "'int' object is not subscriptable",
     "output_type": "error",
     "traceback": [
      "\u001b[1;31m---------------------------------------------------------------------------\u001b[0m",
      "\u001b[1;31mTypeError\u001b[0m                                 Traceback (most recent call last)",
      "\u001b[1;32m<ipython-input-292-a012ccf41db7>\u001b[0m in \u001b[0;36m<module>\u001b[1;34m()\u001b[0m\n\u001b[1;32m----> 1\u001b[1;33m \u001b[0mbin_add\u001b[0m\u001b[1;33m(\u001b[0m\u001b[0mbin\u001b[0m\u001b[1;33m(\u001b[0m\u001b[0mi\u001b[0m\u001b[1;33m)\u001b[0m\u001b[1;33m[\u001b[0m\u001b[1;36m2\u001b[0m\u001b[1;33m:\u001b[0m\u001b[1;33m]\u001b[0m\u001b[1;33m,\u001b[0m \u001b[0mbin\u001b[0m\u001b[1;33m(\u001b[0m\u001b[1;33m~\u001b[0m\u001b[1;33m(\u001b[0m\u001b[0mi\u001b[0m\u001b[1;33m)\u001b[0m\u001b[1;33m[\u001b[0m\u001b[1;36m2\u001b[0m\u001b[1;33m:\u001b[0m\u001b[1;33m]\u001b[0m\u001b[1;33m)\u001b[0m\u001b[1;33m)\u001b[0m\u001b[1;33m\u001b[0m\u001b[0m\n\u001b[0m",
      "\u001b[1;31mTypeError\u001b[0m: 'int' object is not subscriptable"
     ]
    }
   ],
   "source": [
    "bin_add(bin(i)[2:], bin(~(i)[2:]))"
   ]
  },
  {
   "cell_type": "code",
   "execution_count": 296,
   "metadata": {
    "collapsed": true
   },
   "outputs": [],
   "source": [
    "def count_gap(x):\n",
    "    \"\"\"\n",
    "        Perform Find the longest sequence of zeros between ones \"gap\" in binary representation of an integer\n",
    "\n",
    "        Parameters\n",
    "        ----------\n",
    "        x : int\n",
    "            input integer value\n",
    "\n",
    "        Returns\n",
    "        ----------\n",
    "        max_gap : int\n",
    "            the maximum gap length\n",
    "\n",
    "    \"\"\"\n",
    "    try:\n",
    "        # Convert int to binary\n",
    "        b = \"{0:b}\".format(x)\n",
    "        print(b, type(b))\n",
    "        print(b[::-1])\n",
    "        # Iterate from right to lift \n",
    "        # Start detecting gaps after fist \"one\"\n",
    "        for i,j in enumerate(b[::-1]):\n",
    "                print(________in loop_______)\n",
    "                print(i,j)              \n",
    "                if int(j) == 1:\n",
    "                    max_gap = max([len(i) for i in b[::-1][i:].split('1') if i])\n",
    "                    break\n",
    "    except ValueError:\n",
    "        print(\"Oops! no gap found\")\n",
    "        max_gap = 0\n",
    "    return max_gap\n"
   ]
  },
  {
   "cell_type": "code",
   "execution_count": null,
   "metadata": {
    "collapsed": true
   },
   "outputs": [],
   "source": [
    "count_gap(17)"
   ]
  },
  {
   "cell_type": "code",
   "execution_count": 300,
   "metadata": {},
   "outputs": [
    {
     "name": "stdout",
     "output_type": "stream",
     "text": [
      "10001 <class 'str'>\n",
      "10001\n"
     ]
    }
   ],
   "source": [
    "b = \"{0:b}\".format(17)\n",
    "print(b, type(b))\n",
    "print(b[::-1])\n"
   ]
  },
  {
   "cell_type": "code",
   "execution_count": 302,
   "metadata": {},
   "outputs": [
    {
     "name": "stdout",
     "output_type": "stream",
     "text": [
      "001\n"
     ]
    }
   ],
   "source": [
    "print(b[::-1][2:])"
   ]
  },
  {
   "cell_type": "code",
   "execution_count": 303,
   "metadata": {},
   "outputs": [
    {
     "name": "stdout",
     "output_type": "stream",
     "text": [
      "['000', '']\n",
      "['00', '']\n"
     ]
    }
   ],
   "source": [
    "print(b[::-1][1:].split('1'))\n",
    "print(b[::-1][2:].split('1'))\n",
    "\n",
    "\n"
   ]
  },
  {
   "cell_type": "raw",
   "metadata": {},
   "source": [
    "When constructing a slice, as in [6:11], the first index number is where the slice starts (inclusive), and the second index number is where the slice ends (exclusive),\n",
    "\n",
    "##Specifying Stride while Slicing Strings##\n",
    "String slicing can accept a third parameter in addition to two index numbers. The third parameter specifies the stride, which refers to how many characters to move forward after the first character is retrieved from the string. So far, we have omitted the stride parameter, and Python defaults to the stride of 1, so that every character between two index numbers is retrieved.\n",
    "\n",
    "https://www.digitalocean.com/community/tutorials/how-to-index-and-slice-strings-in-python-3\n",
    "\n"
   ]
  },
  {
   "cell_type": "code",
   "execution_count": 304,
   "metadata": {},
   "outputs": [
    {
     "data": {
      "text/plain": [
       "'yeniv'"
      ]
     },
     "execution_count": 304,
     "metadata": {},
     "output_type": "execute_result"
    }
   ],
   "source": [
    "s = 'viney'\n",
    "s[::-1]"
   ]
  },
  {
   "cell_type": "code",
   "execution_count": 305,
   "metadata": {},
   "outputs": [
    {
     "data": {
      "text/plain": [
       "'ine'"
      ]
     },
     "execution_count": 305,
     "metadata": {},
     "output_type": "execute_result"
    }
   ],
   "source": [
    "s[1:4]"
   ]
  },
  {
   "cell_type": "code",
   "execution_count": 306,
   "metadata": {},
   "outputs": [
    {
     "data": {
      "text/plain": [
       "'vny'"
      ]
     },
     "execution_count": 306,
     "metadata": {},
     "output_type": "execute_result"
    }
   ],
   "source": [
    "s[0:5:2]"
   ]
  },
  {
   "cell_type": "code",
   "execution_count": 309,
   "metadata": {},
   "outputs": [
    {
     "data": {
      "text/plain": [
       "'niv'"
      ]
     },
     "execution_count": 309,
     "metadata": {},
     "output_type": "execute_result"
    }
   ],
   "source": [
    "s[::-1][2:]"
   ]
  },
  {
   "cell_type": "code",
   "execution_count": 310,
   "metadata": {},
   "outputs": [
    {
     "data": {
      "text/plain": [
       "'yen'"
      ]
     },
     "execution_count": 310,
     "metadata": {},
     "output_type": "execute_result"
    }
   ],
   "source": [
    "\n",
    "s[2:][::-1]"
   ]
  },
  {
   "cell_type": "code",
   "execution_count": 338,
   "metadata": {},
   "outputs": [
    {
     "name": "stdout",
     "output_type": "stream",
     "text": [
      "!skcor yeniV\n",
      "!skcor yeniV\n",
      "!skcor yeniV\n"
     ]
    }
   ],
   "source": [
    "#reverse a string - 1) using list (Very slow) 2) using string (Slow), 3) using Slicing and reverse stride(-1)\n",
    "\n",
    "\n",
    "\n",
    "vkstring = 'Viney rocks!'\n",
    "newString = []\n",
    "new_string = ''\n",
    "\n",
    "i= len(vkstring)\n",
    "j = 0\n",
    "while i > 0:\n",
    "    #print(vkstring[i-1])\n",
    "    newString.append(vkstring[i-1])    #method1 ---very slow\n",
    "    new_string += vkstring[i-1] # new_string = new_string + character  method2 - slow (no need to append in a list then join back)\n",
    "    j += 1\n",
    "    i -= 1\n",
    "print(''.join(newString))    \n",
    "print(new_string)\n",
    "print(vkstring[::-1])   #mthod3 - fastest"
   ]
  },
  {
   "cell_type": "code",
   "execution_count": 332,
   "metadata": {},
   "outputs": [
    {
     "name": "stdout",
     "output_type": "stream",
     "text": [
      "['Hello', 'world']\n",
      "['He', '', 'o wor', 'd']\n",
      "['Hell', ' w', 'rld']\n"
     ]
    }
   ],
   "source": [
    "i = \"Hello world\"\n",
    "output = i.split()\n",
    "print(output)\n",
    "output = i.split('l')\n",
    "print(output)\n",
    "output = i.split('o')\n",
    "print(output)"
   ]
  },
  {
   "cell_type": "code",
   "execution_count": 345,
   "metadata": {},
   "outputs": [
    {
     "name": "stdout",
     "output_type": "stream",
     "text": [
      "[1, 2, 3, None, 44, 55, 66, None, None, None]\n",
      "[1, 2, 3, 44, 55, 66]\n"
     ]
    }
   ],
   "source": [
    "l = [1,2,3,None,44,55,66,None,None,None]\n",
    "#Using list comprehension this can be done as follows:\n",
    "print(l)\n",
    "l = [i for i in l if i is not None]\n",
    "print(l)"
   ]
  },
  {
   "cell_type": "code",
   "execution_count": 350,
   "metadata": {
    "collapsed": true
   },
   "outputs": [],
   "source": [
    "class Solution:\n",
    "    def lengthOfLongestSubstring(self, s):\n",
    "        \"\"\"\n",
    "        :type s: str\n",
    "        :rtype: int\n",
    "        \"\"\"\n",
    "        i = 0\n",
    "        j = 0\n",
    "        newStr = ''\n",
    "        strList = []\n",
    "        if s is '':\n",
    "            return 0\n",
    "        strlen = len(s)\n",
    "        #newStrList = [None]*strlen #method 1\n",
    "        newStrList = []      #method 2\n",
    "        for i in range(strlen):\n",
    "            if s[i] not in newStr:\n",
    "                #strList[j].append(s[i])\n",
    "                newStr += s[i]\n",
    "            else:\n",
    "                j +=1\n",
    "                newStr = ''\n",
    "                newStr += s[i]\n",
    "                #strList[j].append(s[i])\n",
    "                #newStr = ''.join(strList[j])\n",
    "            i += 1\n",
    "            #print(j,newStr)\n",
    "            if newStr not in newStrList:\n",
    "                #newStrList[j] = newStr     #method 1\n",
    "                newStrList.append(newStr)   #method 2\n",
    "                \n",
    "#        print(newStrList)\n",
    "#        newStrList = [i for i in newStrList if i is not None]     #method 1\n",
    "#        print(newStrList)\n",
    "\n",
    "        mapped_newStrList = list(map(lambda x: len(x), newStrList))\n",
    " #       print(mapped_newStrList)\n",
    "        maxValue = max(mapped_newStrList)\n",
    " #       print(maxValue)\n",
    " #       substrIndex = mapped_newStrList.index(maxValue)\n",
    " #       subStr = newStrList[substrIndex]\n",
    "        return maxValue"
   ]
  },
  {
   "cell_type": "code",
   "execution_count": 351,
   "metadata": {},
   "outputs": [
    {
     "data": {
      "text/plain": [
       "7"
      ]
     },
     "execution_count": 351,
     "metadata": {},
     "output_type": "execute_result"
    }
   ],
   "source": [
    "sol = Solution()\n",
    "sol.lengthOfLongestSubstring('humdiledededechuke')"
   ]
  },
  {
   "cell_type": "code",
   "execution_count": 352,
   "metadata": {},
   "outputs": [
    {
     "data": {
      "text/plain": [
       "0"
      ]
     },
     "execution_count": 352,
     "metadata": {},
     "output_type": "execute_result"
    }
   ],
   "source": [
    "sol.lengthOfLongestSubstring('')"
   ]
  },
  {
   "cell_type": "code",
   "execution_count": 361,
   "metadata": {},
   "outputs": [
    {
     "ename": "TypeError",
     "evalue": "unsupported operand type(s) for -: 'str' and 'int'",
     "output_type": "error",
     "traceback": [
      "\u001b[1;31m---------------------------------------------------------------------------\u001b[0m",
      "\u001b[1;31mTypeError\u001b[0m                                 Traceback (most recent call last)",
      "\u001b[1;32m<ipython-input-361-bc0eb0597ee9>\u001b[0m in \u001b[0;36m<module>\u001b[1;34m()\u001b[0m\n\u001b[0;32m      1\u001b[0m \u001b[0ms\u001b[0m \u001b[1;33m=\u001b[0m \u001b[1;34m'viney'\u001b[0m\u001b[1;33m\u001b[0m\u001b[0m\n\u001b[0;32m      2\u001b[0m \u001b[1;32mfor\u001b[0m \u001b[0mi\u001b[0m \u001b[1;32min\u001b[0m \u001b[0ms\u001b[0m\u001b[1;33m:\u001b[0m\u001b[1;33m\u001b[0m\u001b[0m\n\u001b[1;32m----> 3\u001b[1;33m     \u001b[0mprint\u001b[0m\u001b[1;33m(\u001b[0m\u001b[0mi\u001b[0m\u001b[1;33m,\u001b[0m \u001b[0mi\u001b[0m\u001b[1;33m-\u001b[0m\u001b[1;36m1\u001b[0m\u001b[1;33m)\u001b[0m\u001b[1;33m\u001b[0m\u001b[0m\n\u001b[0m",
      "\u001b[1;31mTypeError\u001b[0m: unsupported operand type(s) for -: 'str' and 'int'"
     ]
    }
   ],
   "source": [
    "s = 'viney'\n",
    "for i in s:\n",
    "    print(i, i-1)"
   ]
  },
  {
   "cell_type": "code",
   "execution_count": 363,
   "metadata": {},
   "outputs": [
    {
     "name": "stdout",
     "output_type": "stream",
     "text": [
      "v 0 y y\n",
      "i 1 v viney\n",
      "n 2 i iney\n",
      "e 3 n ney\n",
      "y 4 e ey\n"
     ]
    }
   ],
   "source": [
    "s = 'viney'\n",
    "#i = 0\n",
    "for i in range(len(s)):\n",
    "    print(s[i], i, s[i-1],s[i-1:])\n",
    "    #i += 1"
   ]
  },
  {
   "cell_type": "code",
   "execution_count": 375,
   "metadata": {},
   "outputs": [
    {
     "name": "stdout",
     "output_type": "stream",
     "text": [
      "[1, 2, 3, 4, 5, 6]\n"
     ]
    }
   ],
   "source": [
    "l1 = [1,2,3,4]\n",
    "l2 = [3,4,5,6]\n",
    "#l1.append(l2)\n",
    "#l1.extend(l2)\n",
    "l1 = list(set(l1 + l2))\n",
    "print(l1)\n"
   ]
  },
  {
   "cell_type": "code",
   "execution_count": 378,
   "metadata": {},
   "outputs": [
    {
     "data": {
      "text/plain": [
       "'No'"
      ]
     },
     "execution_count": 378,
     "metadata": {},
     "output_type": "execute_result"
    }
   ],
   "source": [
    "fruit = 'PineApple'\n",
    "\n",
    "'Yes' if fruit == 'Apple' else 'No'"
   ]
  },
  {
   "cell_type": "code",
   "execution_count": 380,
   "metadata": {},
   "outputs": [
    {
     "data": {
      "text/plain": [
       "True"
      ]
     },
     "execution_count": 380,
     "metadata": {},
     "output_type": "execute_result"
    }
   ],
   "source": [
    "#Now with assignment and contrast with if syntax\n",
    "\n",
    "fruit = 'Apple'\n",
    "isApple = True if fruit == 'Apple' else False\n",
    "isApple"
   ]
  },
  {
   "cell_type": "code",
   "execution_count": 384,
   "metadata": {},
   "outputs": [],
   "source": [
    "def canStopRecursive(runway, initSpeed, startIndex = 0):\n",
    "    # negative base cases need to go first\n",
    "    if (startIndex >= len(runway) or startIndex < 0 or initSpeed < 0 or not runway[startIndex]):\n",
    "        return False\n",
    "    # base case for a stopping condition\n",
    "    if initSpeed == 0:\n",
    "        return True\n",
    "    # Try all possible paths\n",
    "    for adjustedSpeed in [initSpeed, initSpeed - 1, initSpeed + 1]:\n",
    "        # Recurrence relation: If you can stop from any of the subproblems,\n",
    "        # you can also stop from the main problem\n",
    "        if canStopRecursive(runway, adjustedSpeed, startIndex + adjustedSpeed):\n",
    "            return True\n",
    "    return False"
   ]
  },
  {
   "cell_type": "code",
   "execution_count": null,
   "metadata": {
    "collapsed": true
   },
   "outputs": [],
   "source": [
    "def canStopIterative(runway, initSpeed, startIndex = 0):\n",
    "  # maximum speed cannot be larger than length of the runway. We will talk about\n",
    "  # making this bound tighter later on.\n",
    "  maxSpeed = len(runway)\n",
    "  if (startIndex >= len(runway) or startIndex < 0 or initSpeed < 0 or initSpeed > maxSpeed or not runway[startIndex]):\n",
    "      return False\n",
    "  # {position i : set of speeds for which we can stop from position i}\n",
    "  memo = {}\n",
    "  # Base cases, we can stop when a position is not a spike and speed is zero.\n",
    "  for position in range(len(runway)):\n",
    "    if runway[position]:\n",
    "      memo[position] = set([0])\n",
    "  \n",
    "  # Outer loop to go over positions from the last one to the first one\n",
    "  for position in reversed(range(len(runway))):\n",
    "    # Skip positions which contain spikes\n",
    "    if not runway[position]:\n",
    "      continue\n",
    "    # For each position, go over all possible speeds\n",
    "    for speed in range(1, maxSpeed + 1):\n",
    "      # Recurrence relation is the same as in the recursive version.\n",
    "      for adjustedSpeed in [speed, speed - 1, speed + 1]:\n",
    "        if (position + adjustedSpeed in memo and\n",
    "            adjustedSpeed in memo[position + adjustedSpeed]):\n",
    "          memo[position].add(speed)\n",
    "          break\n",
    "  return initSpeed in memo[startIndex]"
   ]
  },
  {
   "cell_type": "code",
   "execution_count": 484,
   "metadata": {},
   "outputs": [],
   "source": [
    "import math\n",
    "class powerSet:\n",
    "    def subsets(self, nums):\n",
    "        \"\"\"\n",
    "        :type nums: List[int]\n",
    "        :rtype: List[List[int]]\n",
    "        \"\"\"\n",
    "        subsets = []\n",
    "        binary = []\n",
    "        #bits = generatebitStrings(nums)\n",
    "        length = len(nums)\n",
    "        total = int(math.pow(2, length))\n",
    "\n",
    "        for i in range(total):\n",
    "            binaryNum = format(i,\"b\")\n",
    "            #print(binaryNum)\n",
    "            tempSubSet = []\n",
    "            \n",
    "            while(len(binaryNum) < length):\n",
    "                binaryNum = \"0\" + binaryNum\n",
    "            binary.append(binaryNum)\n",
    "            \n",
    "            for i in range(0,length):\n",
    "                if \"1\" in binaryNum[i]:\n",
    "                    tempSubSet.append(nums[i])\n",
    "            \n",
    "            subsets.append(tempSubSet)\n",
    "        return subsets"
   ]
  },
  {
   "cell_type": "code",
   "execution_count": 485,
   "metadata": {},
   "outputs": [
    {
     "name": "stdout",
     "output_type": "stream",
     "text": [
      "[[], [5], [4], [4, 5], [3], [3, 5], [3, 4], [3, 4, 5], [2], [2, 5], [2, 4], [2, 4, 5], [2, 3], [2, 3, 5], [2, 3, 4], [2, 3, 4, 5], [1], [1, 5], [1, 4], [1, 4, 5], [1, 3], [1, 3, 5], [1, 3, 4], [1, 3, 4, 5], [1, 2], [1, 2, 5], [1, 2, 4], [1, 2, 4, 5], [1, 2, 3], [1, 2, 3, 5], [1, 2, 3, 4], [1, 2, 3, 4, 5]]\n",
      "32\n",
      "[]\n",
      "[5]\n",
      "[4]\n",
      "[4, 5]\n",
      "[3]\n",
      "[3, 5]\n",
      "[3, 4]\n",
      "[3, 4, 5]\n",
      "[2]\n",
      "[2, 5]\n",
      "[2, 4]\n",
      "[2, 4, 5]\n",
      "[2, 3]\n",
      "[2, 3, 5]\n",
      "[2, 3, 4]\n",
      "[2, 3, 4, 5]\n",
      "[1]\n",
      "[1, 5]\n",
      "[1, 4]\n",
      "[1, 4, 5]\n",
      "[1, 3]\n",
      "[1, 3, 5]\n",
      "[1, 3, 4]\n",
      "[1, 3, 4, 5]\n",
      "[1, 2]\n",
      "[1, 2, 5]\n",
      "[1, 2, 4]\n",
      "[1, 2, 4, 5]\n",
      "[1, 2, 3]\n",
      "[1, 2, 3, 5]\n",
      "[1, 2, 3, 4]\n",
      "[1, 2, 3, 4, 5]\n"
     ]
    }
   ],
   "source": [
    "obj = powerSet()\n",
    "s = obj.subsets([1,2,3,4,5])\n",
    "print(s)\n",
    "print(len(s))\n",
    "for z in s:\n",
    "    print(z)"
   ]
  },
  {
   "cell_type": "code",
   "execution_count": 399,
   "metadata": {},
   "outputs": [
    {
     "data": {
      "text/plain": [
       "'00000110'"
      ]
     },
     "execution_count": 399,
     "metadata": {},
     "output_type": "execute_result"
    }
   ],
   "source": [
    "'{0:08b}'.format(6)\n"
   ]
  },
  {
   "cell_type": "raw",
   "metadata": {},
   "source": [
    "Just to explain the parts of the formatting string:\n",
    "\n",
    "{} places a variable into a string\n",
    "0 takes the variable at argument position 0\n",
    ": adds formatting options for this variable (otherwise it would represent decimal 6)\n",
    "08 formats the number to eight digits zero-padded on the left\n",
    "b converts the number to its binary representation"
   ]
  },
  {
   "cell_type": "code",
   "execution_count": 416,
   "metadata": {},
   "outputs": [
    {
     "data": {
      "text/plain": [
       "'10'"
      ]
     },
     "execution_count": 416,
     "metadata": {},
     "output_type": "execute_result"
    }
   ],
   "source": [
    "format(2,\"b\")"
   ]
  },
  {
   "cell_type": "code",
   "execution_count": 417,
   "metadata": {},
   "outputs": [
    {
     "data": {
      "text/plain": [
       "'111'"
      ]
     },
     "execution_count": 417,
     "metadata": {},
     "output_type": "execute_result"
    }
   ],
   "source": [
    "format(7,\"b\")"
   ]
  },
  {
   "cell_type": "code",
   "execution_count": 520,
   "metadata": {},
   "outputs": [],
   "source": [
    "\"\"\"\n",
    "\n",
    "1) How to recognize a DP problem\n",
    "2) Identify problem variables\n",
    "Clearly express the recurrence relation\n",
    "Identify the base cases\n",
    "Decide if you want to implement it iteratively or recursively\n",
    "Add memoization\n",
    "Determine time complexity\n",
    "\n",
    "1) can be divided into subproblems\n",
    "2) find variables - set, num of elements in a set and a num from set at a given time\n",
    "3) define subproblem -- either a given num is there or not there in a given set\n",
    "4) define recursive nature will solve main problem \n",
    "5) define base case\n",
    "\n",
    "\"\"\"\n",
    "\n",
    "class powerset_recursive:\n",
    "    def subsets(self,nums):\n",
    "        length = len(nums)\n",
    "        subset = []\n",
    "        memo = []\n",
    "        subsets = []\n",
    "        for i in range(length):\n",
    "            self.calculateSubsets([[]],nums,i)\n",
    "        #if newset not in memo:\n",
    "        #    memo.append(newset)\n",
    "        #return memo\n",
    "    \n",
    "    def calculateSubsets(self,subset,nums,i):\n",
    "        print(i,len(nums))\n",
    "        if i != len(nums):\n",
    "            #if nums[i] not in subset:\n",
    "            #newsubset = subset.append([])\n",
    "            #self.calculateSubsets(newsubset,nums,i+1)\n",
    "            newsubset = subset.append(nums[i])\n",
    "            self.calculateSubsets(newsubset,nums,i+1)\n",
    "        else:\n",
    "            self.print_subsets(subset)\n",
    "        return newSubset\n",
    "    \n",
    "    \n",
    "    def print_subsets(self,subset):\n",
    "        print(subset)\n",
    "        #for s in subset:\n",
    "        #    print(s)"
   ]
  },
  {
   "cell_type": "code",
   "execution_count": 521,
   "metadata": {},
   "outputs": [
    {
     "name": "stdout",
     "output_type": "stream",
     "text": [
      "0 3\n",
      "1 3\n"
     ]
    },
    {
     "ename": "AttributeError",
     "evalue": "'NoneType' object has no attribute 'append'",
     "output_type": "error",
     "traceback": [
      "\u001b[1;31m---------------------------------------------------------------------------\u001b[0m",
      "\u001b[1;31mAttributeError\u001b[0m                            Traceback (most recent call last)",
      "\u001b[1;32m<ipython-input-521-7f84df41ed4b>\u001b[0m in \u001b[0;36m<module>\u001b[1;34m()\u001b[0m\n\u001b[0;32m      1\u001b[0m \u001b[0mp\u001b[0m \u001b[1;33m=\u001b[0m \u001b[0mpowerset_recursive\u001b[0m\u001b[1;33m(\u001b[0m\u001b[1;33m)\u001b[0m\u001b[1;33m\u001b[0m\u001b[0m\n\u001b[1;32m----> 2\u001b[1;33m \u001b[0mp\u001b[0m\u001b[1;33m.\u001b[0m\u001b[0msubsets\u001b[0m\u001b[1;33m(\u001b[0m\u001b[1;33m[\u001b[0m\u001b[1;36m1\u001b[0m\u001b[1;33m,\u001b[0m\u001b[1;36m2\u001b[0m\u001b[1;33m,\u001b[0m\u001b[1;36m3\u001b[0m\u001b[1;33m]\u001b[0m\u001b[1;33m)\u001b[0m\u001b[1;33m\u001b[0m\u001b[0m\n\u001b[0m",
      "\u001b[1;32m<ipython-input-520-e6a2c3a49323>\u001b[0m in \u001b[0;36msubsets\u001b[1;34m(self, nums)\u001b[0m\n\u001b[0;32m     24\u001b[0m         \u001b[0msubsets\u001b[0m \u001b[1;33m=\u001b[0m \u001b[1;33m[\u001b[0m\u001b[1;33m]\u001b[0m\u001b[1;33m\u001b[0m\u001b[0m\n\u001b[0;32m     25\u001b[0m         \u001b[1;32mfor\u001b[0m \u001b[0mi\u001b[0m \u001b[1;32min\u001b[0m \u001b[0mrange\u001b[0m\u001b[1;33m(\u001b[0m\u001b[0mlength\u001b[0m\u001b[1;33m)\u001b[0m\u001b[1;33m:\u001b[0m\u001b[1;33m\u001b[0m\u001b[0m\n\u001b[1;32m---> 26\u001b[1;33m             \u001b[0mself\u001b[0m\u001b[1;33m.\u001b[0m\u001b[0mcalculateSubsets\u001b[0m\u001b[1;33m(\u001b[0m\u001b[1;33m[\u001b[0m\u001b[1;33m[\u001b[0m\u001b[1;33m]\u001b[0m\u001b[1;33m]\u001b[0m\u001b[1;33m,\u001b[0m\u001b[0mnums\u001b[0m\u001b[1;33m,\u001b[0m\u001b[0mi\u001b[0m\u001b[1;33m)\u001b[0m\u001b[1;33m\u001b[0m\u001b[0m\n\u001b[0m\u001b[0;32m     27\u001b[0m         \u001b[1;31m#if newset not in memo:\u001b[0m\u001b[1;33m\u001b[0m\u001b[1;33m\u001b[0m\u001b[0m\n\u001b[0;32m     28\u001b[0m         \u001b[1;31m#    memo.append(newset)\u001b[0m\u001b[1;33m\u001b[0m\u001b[1;33m\u001b[0m\u001b[0m\n",
      "\u001b[1;32m<ipython-input-520-e6a2c3a49323>\u001b[0m in \u001b[0;36mcalculateSubsets\u001b[1;34m(self, subset, nums, i)\u001b[0m\n\u001b[0;32m     36\u001b[0m             \u001b[1;31m#self.calculateSubsets(newsubset,nums,i+1)\u001b[0m\u001b[1;33m\u001b[0m\u001b[1;33m\u001b[0m\u001b[0m\n\u001b[0;32m     37\u001b[0m             \u001b[0mnewsubset\u001b[0m \u001b[1;33m=\u001b[0m \u001b[0msubset\u001b[0m\u001b[1;33m.\u001b[0m\u001b[0mappend\u001b[0m\u001b[1;33m(\u001b[0m\u001b[0mnums\u001b[0m\u001b[1;33m[\u001b[0m\u001b[0mi\u001b[0m\u001b[1;33m]\u001b[0m\u001b[1;33m)\u001b[0m\u001b[1;33m\u001b[0m\u001b[0m\n\u001b[1;32m---> 38\u001b[1;33m             \u001b[0mself\u001b[0m\u001b[1;33m.\u001b[0m\u001b[0mcalculateSubsets\u001b[0m\u001b[1;33m(\u001b[0m\u001b[0mnewsubset\u001b[0m\u001b[1;33m,\u001b[0m\u001b[0mnums\u001b[0m\u001b[1;33m,\u001b[0m\u001b[0mi\u001b[0m\u001b[1;33m+\u001b[0m\u001b[1;36m1\u001b[0m\u001b[1;33m)\u001b[0m\u001b[1;33m\u001b[0m\u001b[0m\n\u001b[0m\u001b[0;32m     39\u001b[0m         \u001b[1;32melse\u001b[0m\u001b[1;33m:\u001b[0m\u001b[1;33m\u001b[0m\u001b[0m\n\u001b[0;32m     40\u001b[0m             \u001b[0mself\u001b[0m\u001b[1;33m.\u001b[0m\u001b[0mprint_subsets\u001b[0m\u001b[1;33m(\u001b[0m\u001b[0msubset\u001b[0m\u001b[1;33m)\u001b[0m\u001b[1;33m\u001b[0m\u001b[0m\n",
      "\u001b[1;32m<ipython-input-520-e6a2c3a49323>\u001b[0m in \u001b[0;36mcalculateSubsets\u001b[1;34m(self, subset, nums, i)\u001b[0m\n\u001b[0;32m     35\u001b[0m             \u001b[1;31m#newsubset = subset.append([])\u001b[0m\u001b[1;33m\u001b[0m\u001b[1;33m\u001b[0m\u001b[0m\n\u001b[0;32m     36\u001b[0m             \u001b[1;31m#self.calculateSubsets(newsubset,nums,i+1)\u001b[0m\u001b[1;33m\u001b[0m\u001b[1;33m\u001b[0m\u001b[0m\n\u001b[1;32m---> 37\u001b[1;33m             \u001b[0mnewsubset\u001b[0m \u001b[1;33m=\u001b[0m \u001b[0msubset\u001b[0m\u001b[1;33m.\u001b[0m\u001b[0mappend\u001b[0m\u001b[1;33m(\u001b[0m\u001b[0mnums\u001b[0m\u001b[1;33m[\u001b[0m\u001b[0mi\u001b[0m\u001b[1;33m]\u001b[0m\u001b[1;33m)\u001b[0m\u001b[1;33m\u001b[0m\u001b[0m\n\u001b[0m\u001b[0;32m     38\u001b[0m             \u001b[0mself\u001b[0m\u001b[1;33m.\u001b[0m\u001b[0mcalculateSubsets\u001b[0m\u001b[1;33m(\u001b[0m\u001b[0mnewsubset\u001b[0m\u001b[1;33m,\u001b[0m\u001b[0mnums\u001b[0m\u001b[1;33m,\u001b[0m\u001b[0mi\u001b[0m\u001b[1;33m+\u001b[0m\u001b[1;36m1\u001b[0m\u001b[1;33m)\u001b[0m\u001b[1;33m\u001b[0m\u001b[0m\n\u001b[0;32m     39\u001b[0m         \u001b[1;32melse\u001b[0m\u001b[1;33m:\u001b[0m\u001b[1;33m\u001b[0m\u001b[0m\n",
      "\u001b[1;31mAttributeError\u001b[0m: 'NoneType' object has no attribute 'append'"
     ]
    }
   ],
   "source": [
    "p = powerset_recursive()\n",
    "p.subsets([1,2,3])"
   ]
  },
  {
   "cell_type": "code",
   "execution_count": null,
   "metadata": {
    "collapsed": true
   },
   "outputs": [],
   "source": [
    "def p_r_subset(nums):\n",
    "    if len(nums) == 0:\n",
    "        return [nums]\n",
    "    elif len(nums) == 1:\n",
    "        return [[]] + [nums] \n",
    "    else:\n",
    "        rest = p_r_subset(nums[1:])\n",
    "        "
   ]
  },
  {
   "cell_type": "code",
   "execution_count": 588,
   "metadata": {},
   "outputs": [],
   "source": [
    "def smallIntegerNotinArr(arr):\n",
    "    arr.sort()\n",
    "    ans = 0\n",
    "    print(arr)\n",
    "    if len(arr) >= 1 and arr[0] > 1:\n",
    "        ans = 1\n",
    "        return ans\n",
    "    if len(arr) == 0:\n",
    "        ans = 1\n",
    "        return ans\n",
    "    if len(arr) >= 1 and arr[0] < 1 and 1 not in arr:\n",
    "        ans = 1\n",
    "        return ans\n",
    "    else:       \n",
    "        for i in range(len(arr) -1):\n",
    "            #print(i,arr[i],arr[i+1])\n",
    "            if arr[i+1] - arr[i] > 1:\n",
    "                ans = arr[i] + 1\n",
    "                if ans > 0: return ans\n",
    "    return arr[i+1] + 1"
   ]
  },
  {
   "cell_type": "code",
   "execution_count": 589,
   "metadata": {},
   "outputs": [
    {
     "name": "stdout",
     "output_type": "stream",
     "text": [
      "[1, 2, 4, 5, 6]\n",
      "3\n"
     ]
    }
   ],
   "source": [
    "s = smallIntegerNotinArr([2,4,5,1,6])\n",
    "print(s)"
   ]
  },
  {
   "cell_type": "code",
   "execution_count": 590,
   "metadata": {},
   "outputs": [
    {
     "name": "stdout",
     "output_type": "stream",
     "text": [
      "[]\n",
      "1\n"
     ]
    }
   ],
   "source": [
    "s = smallIntegerNotinArr([])\n",
    "print(s)"
   ]
  },
  {
   "cell_type": "code",
   "execution_count": 591,
   "metadata": {},
   "outputs": [
    {
     "name": "stdout",
     "output_type": "stream",
     "text": [
      "[2]\n",
      "1\n"
     ]
    }
   ],
   "source": [
    "s = smallIntegerNotinArr([2])\n",
    "print(s)"
   ]
  },
  {
   "cell_type": "code",
   "execution_count": 592,
   "metadata": {},
   "outputs": [
    {
     "name": "stdout",
     "output_type": "stream",
     "text": [
      "[2, 4]\n",
      "1\n"
     ]
    }
   ],
   "source": [
    "s = smallIntegerNotinArr([2,4])\n",
    "print(s)"
   ]
  },
  {
   "cell_type": "code",
   "execution_count": 593,
   "metadata": {},
   "outputs": [
    {
     "name": "stdout",
     "output_type": "stream",
     "text": [
      "[-3, -1]\n",
      "1\n"
     ]
    }
   ],
   "source": [
    "s = smallIntegerNotinArr([-1,-3])\n",
    "print(s)\n"
   ]
  },
  {
   "cell_type": "code",
   "execution_count": 594,
   "metadata": {},
   "outputs": [
    {
     "name": "stdout",
     "output_type": "stream",
     "text": [
      "[-3, -1, 1, 2, 3, 4]\n",
      "5\n"
     ]
    }
   ],
   "source": [
    "s = smallIntegerNotinArr([-1,-3,1,2,3,4])\n",
    "print(s)\n"
   ]
  },
  {
   "cell_type": "code",
   "execution_count": null,
   "metadata": {
    "collapsed": true
   },
   "outputs": [],
   "source": [
    "SELECT d.dept_id, count(e.emp_id), sum(e.Salary) from department as d, employee as e\n",
    "where d.dept_id = e.dept_id group by d.dept_id having count(e.emp_id) >= 1 order by d.dept_id;"
   ]
  },
  {
   "cell_type": "code",
   "execution_count": 724,
   "metadata": {},
   "outputs": [],
   "source": [
    "def solution11(S):\n",
    "    #S.replace(' ','')\n",
    "    S= S.replace(\"-\",\"\")\n",
    "    S = ''.join(S.split())\n",
    "    tempS = ''\n",
    "    ans = ''\n",
    "    mod = 3\n",
    "    rem = len(S) % 3\n",
    "    print(S,len(S), rem)\n",
    "    for i in range(0,len(S)):\n",
    "        left = len(S) - i - 1\n",
    "        if (left / 3) > 1:\n",
    "            mod = 3\n",
    "            num = i + 1\n",
    "        if (left / 3) <= 1 and (left % 3) == 1:\n",
    "            mod = 2\n",
    "            num = left\n",
    "        if (i+1) % mod == 0:\n",
    "            #print(len(S), i, left,mod)\n",
    "                tempS = S[i] + '-'\n",
    "        else: \n",
    "            tempS = S[i]\n",
    "        ans = ans + tempS\n",
    "    return ans"
   ]
  },
  {
   "cell_type": "code",
   "execution_count": 725,
   "metadata": {},
   "outputs": [
    {
     "name": "stdout",
     "output_type": "stream",
     "text": [
      "00444855558361 14 2\n",
      "004-448-555-583-61-\n"
     ]
    }
   ],
   "source": [
    "S = solution11('00-44  48 55 55 8361')\n",
    "print(S)"
   ]
  },
  {
   "cell_type": "code",
   "execution_count": 726,
   "metadata": {},
   "outputs": [
    {
     "name": "stdout",
     "output_type": "stream",
     "text": [
      "0044485555836 13 1\n",
      "004-448-555-583-6\n"
     ]
    }
   ],
   "source": [
    "S = solution11('00-4448 55 55 836')\n",
    "print(S)"
   ]
  },
  {
   "cell_type": "code",
   "execution_count": 702,
   "metadata": {},
   "outputs": [],
   "source": [
    "def solution12(S):\n",
    "    #S.replace(' ','')\n",
    "    S= S.replace(\"-\",\"\")\n",
    "    S = ''.join(S.split())\n",
    "    tempS = ''\n",
    "    ans = ''\n",
    "    mod = 3\n",
    "    rem = len(S) % 3\n",
    "    length = len(S) \n",
    "    print('len is', len(S),'remainder is',rem)\n",
    "    for i in range(0,len(S)):\n",
    "        if (i+1) % mod == 0:\n",
    "            newRem = (i + 1) % 3\n",
    "            left = len(S) - i - 1\n",
    "            print(len(S), i, left,mod)\n",
    "            if left >= 4:\n",
    "                tempS = S[i] + '-'\n",
    "                mod = 3\n",
    "                if left == 4:\n",
    "                    mod = 2\n",
    "                elif left < 4:\n",
    "                    tempS = S[i]\n",
    "                    mod = 2\n",
    "        else: \n",
    "            tempS = S[i]\n",
    "        ans = ans + tempS\n",
    "    return ans"
   ]
  },
  {
   "cell_type": "code",
   "execution_count": null,
   "metadata": {
    "collapsed": true
   },
   "outputs": [],
   "source": [
    "def givenS(S):\n",
    "    S= S.replace(\"-\",\"\")\n",
    "    S = ''.join(S.split())\n",
    "    tempS = ''\n",
    "    length = len(S)\n",
    "    for i in range(len(S)):\n",
    "        cur = S[i:i+3]\n",
    "        formSubstr(cur,S,i)\n",
    "\n",
    "def formSubstr(cur,S, i):\n",
    "    if len(S[i:len(S)]) > \n",
    "    "
   ]
  },
  {
   "cell_type": "code",
   "execution_count": 727,
   "metadata": {
    "collapsed": true
   },
   "outputs": [],
   "source": [
    "# Complete the oddNumbers function below.\n",
    "def oddNumbers(l, r):\n",
    "    for i in range(l,r):\n",
    "        if i % 2 != 0:\n",
    "            print(i)\n"
   ]
  },
  {
   "cell_type": "code",
   "execution_count": 728,
   "metadata": {},
   "outputs": [
    {
     "name": "stdout",
     "output_type": "stream",
     "text": [
      "3\n",
      "5\n"
     ]
    }
   ],
   "source": [
    "oddNumbers(2,7)"
   ]
  },
  {
   "cell_type": "code",
   "execution_count": null,
   "metadata": {
    "collapsed": true
   },
   "outputs": [],
   "source": []
  }
 ],
 "metadata": {
  "kernelspec": {
   "display_name": "Python 3",
   "language": "python",
   "name": "python3"
  },
  "language_info": {
   "codemirror_mode": {
    "name": "ipython",
    "version": 3
   },
   "file_extension": ".py",
   "mimetype": "text/x-python",
   "name": "python",
   "nbconvert_exporter": "python",
   "pygments_lexer": "ipython3",
   "version": "3.6.3"
  }
 },
 "nbformat": 4,
 "nbformat_minor": 2
}
