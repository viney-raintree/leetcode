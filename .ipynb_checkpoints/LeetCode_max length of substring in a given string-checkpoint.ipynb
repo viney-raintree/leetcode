{
 "cells": [
  {
   "cell_type": "code",
   "execution_count": 40,
   "metadata": {
    "collapsed": true
   },
   "outputs": [],
   "source": [
    "class Solution:\n",
    "    def lengthOfLongestSubstring(self, s):\n",
    "        \"\"\"\n",
    "        :type s: str\n",
    "        :rtype: int\n",
    "        \"\"\"\n",
    "        i = 0\n",
    "        j = 0\n",
    "        newStr = ''\n",
    "        strList = []\n",
    "        strlen = len(s)\n",
    "        newStrList = [None]*strlen #method 1\n",
    "        #newStrList = []      #method 2\n",
    "        for i in range(strlen):\n",
    "            newStr += s[i]\n",
    "            i += 1\n",
    "            #print(j,newStr)\n",
    "            newStrList[j] += newStr     #method 1\n",
    "                #newStrList.append(newStr)   #method 2\n",
    "                \n",
    "        print(newStrList)\n",
    "        newStrList = [i for i in newStrList if i is not None]     #method 1\n",
    "        print(newStrList)\n",
    "\n",
    "        mapped_newStrList = list(map(lambda x: len(x), newStrList))\n",
    "        print(mapped_newStrList)\n",
    "        maxValue = max(mapped_newStrList)\n",
    "        print(maxValue)\n",
    "        substrIndex = mapped_newStrList.index(maxValue)\n",
    "        subStr = newStrList[substrIndex]\n",
    "        return maxValue, substrIndex, subStr\n",
    "    \n",
    "    \n",
    "    def lengthOfLongestSubstringMethod2(self, s):\n",
    "        \"\"\"\n",
    "        :type s: str\n",
    "        :rtype: int\n",
    "        \"\"\"\n",
    "        i = 0\n",
    "        j = 0\n",
    "        newStr = ''\n",
    "        strList = []\n",
    "        if s is '':\n",
    "            return 0\n",
    "        \n",
    "        strlen = len(s)\n",
    "        #newStrList = [None]*strlen #method 1\n",
    "        newStrList = []      #method 2\n",
    "        for i in range(strlen):\n",
    "            print(s[i],newStr)\n",
    "\n",
    "            if s[i] not in newStr:\n",
    "                newStr += s[i]\n",
    "                i += 1\n",
    "            else:\n",
    "                j +=1\n",
    "                newStr = ''\n",
    "                i -= 1\n",
    "                print(s[i],newStr)\n",
    "                newStr += s[i]\n",
    "                #strList[j].append(s[i])\n",
    "                #newStr = ''.join(strList[j])\n",
    "            #if newStr not in newStrList:\n",
    "            #newStrList[j] = newStr     #method 1\n",
    "                newStrList.append(newStr)   #method 2\n",
    "\n",
    "        print(newStrList)\n",
    "        #newStrList = [i for i in newStrList if i is not None]     #method 1\n",
    "        print(newStrList)\n",
    "        mapped_newStrList = list(map(lambda x: len(x), newStrList))\n",
    "        print(mapped_newStrList)\n",
    "        maxValue = max(mapped_newStrList)\n",
    "        print(maxValue)\n",
    "        substrIndex = mapped_newStrList.index(maxValue)\n",
    "        subStr = newStrList[substrIndex]\n",
    "        return maxValue, substrIndex, subStr    "
   ]
  },
  {
   "cell_type": "code",
   "execution_count": 41,
   "metadata": {},
   "outputs": [
    {
     "name": "stdout",
     "output_type": "stream",
     "text": [
      "['abcabcabcvv', None, None, None, None, None, None, None, None, None, None]\n",
      "['abcabcabcvv']\n",
      "[11]\n",
      "11\n",
      "(11, 0, 'abcabcabcvv')\n",
      "a \n",
      "b a\n",
      "c ab\n",
      "a abc\n",
      "c \n",
      "b c\n",
      "c cb\n",
      "b \n",
      "a b\n",
      "b ba\n",
      "a \n",
      "c a\n",
      "v ac\n",
      "v acv\n",
      "v \n",
      "['c', 'b', 'a', 'v']\n",
      "['c', 'b', 'a', 'v']\n",
      "[1, 1, 1, 1]\n",
      "1\n"
     ]
    },
    {
     "data": {
      "text/plain": [
       "(1, 0, 'c')"
      ]
     },
     "execution_count": 41,
     "metadata": {},
     "output_type": "execute_result"
    }
   ],
   "source": [
    "s='abcabcabcvv' \n",
    "sol = Solution()\n",
    "print(sol.lengthOfLongestSubstring(s))\n",
    "sol.lengthOfLongestSubstringMethod2(s)"
   ]
  },
  {
   "cell_type": "code",
   "execution_count": 37,
   "metadata": {},
   "outputs": [
    {
     "name": "stdout",
     "output_type": "stream",
     "text": [
      "['dv', 'vf', None, None]\n",
      "['dv', 'vf']\n",
      "[2, 2]\n",
      "2\n",
      "(2, 0, 'dv')\n",
      "d \n",
      "v d\n",
      "d dv\n",
      "v \n",
      "f v\n",
      "['d', 'dv', 'v', 'vf']\n",
      "['d', 'dv', 'v', 'vf']\n",
      "[1, 2, 1, 2]\n",
      "2\n"
     ]
    },
    {
     "data": {
      "text/plain": [
       "(2, 1, 'dv')"
      ]
     },
     "execution_count": 37,
     "metadata": {},
     "output_type": "execute_result"
    }
   ],
   "source": [
    "s='dvdf' \n",
    "sol = Solution()\n",
    "print(sol.lengthOfLongestSubstring(s))\n",
    "sol.lengthOfLongestSubstringMethod2(s)"
   ]
  },
  {
   "cell_type": "code",
   "execution_count": 36,
   "metadata": {},
   "outputs": [
    {
     "name": "stdout",
     "output_type": "stream",
     "text": [
      "exists at 0\n"
     ]
    }
   ],
   "source": [
    "testList = ['dv','vd',1,2,3]\n",
    "\n",
    "if 'dv' in testList:\n",
    "    print('exists at', testList.index('dv'))\n",
    "else:\n",
    "    print('doest exist')"
   ]
  },
  {
   "cell_type": "code",
   "execution_count": null,
   "metadata": {
    "collapsed": true
   },
   "outputs": [],
   "source": []
  }
 ],
 "metadata": {
  "kernelspec": {
   "display_name": "Python 3",
   "language": "python",
   "name": "python3"
  },
  "language_info": {
   "codemirror_mode": {
    "name": "ipython",
    "version": 3
   },
   "file_extension": ".py",
   "mimetype": "text/x-python",
   "name": "python",
   "nbconvert_exporter": "python",
   "pygments_lexer": "ipython3",
   "version": "3.6.3"
  }
 },
 "nbformat": 4,
 "nbformat_minor": 2
}
