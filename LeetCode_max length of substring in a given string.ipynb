{
 "cells": [
  {
   "cell_type": "code",
   "execution_count": 106,
   "metadata": {
    "collapsed": true
   },
   "outputs": [],
   "source": [
    "class Solution:\n",
    "    def getSubString(self,s,newStrList = None):\n",
    "        newStr = ''\n",
    "        newstrList_Ret = []\n",
    "        strlen = len(s)\n",
    "        newStrList = []      #method 2\n",
    "        for i in range(strlen):\n",
    "            if s[i] not in newStr:                \n",
    "                newStr += s[i]\n",
    "                newStrList.append(newStr)\n",
    "            else:\n",
    "                if len(s[i-1:]) > 2:\n",
    "                    newstrList_Ret = self.getSubString(s[i-1:],newStrList)\n",
    "                    newStrList = list(set(newStrList + newstrList_Ret))\n",
    "            #print(newStrList)        \n",
    "        return newStrList\n",
    "    \n",
    "    def lengthOfLongestSubstring(self, s):\n",
    "        \"\"\"\n",
    "        :type s: str\n",
    "        :rtype: int\n",
    "        \"\"\"\n",
    "        i = 0\n",
    "        j = 0\n",
    "        strList = []\n",
    "        if s is '':\n",
    "            return 0\n",
    "        else:\n",
    "            newStrList = self.getSubString(s)\n",
    "               \n",
    "        print(newStrList)\n",
    "        #newStrList = [i for i in newStrList if i is not None]     #method 1\n",
    "        #print(newStrList)\n",
    "\n",
    "        mapped_newStrList = list(map(lambda x: len(x), newStrList))\n",
    "        print(mapped_newStrList)\n",
    "        maxValue = max(mapped_newStrList)\n",
    "        print(maxValue)\n",
    "        substrIndex = mapped_newStrList.index(maxValue)\n",
    "        subStr = newStrList[substrIndex]\n",
    "        return maxValue, substrIndex, subStr"
   ]
  },
  {
   "cell_type": "code",
   "execution_count": 107,
   "metadata": {},
   "outputs": [
    {
     "name": "stdout",
     "output_type": "stream",
     "text": [
      "['bc', 'c', 'bcv', 'ca', 'cab', 'ab', 'abc', 'b', 'bca', 'bcav', 'a', 'cabv', 'abcv', 'abcv']\n",
      "[2, 1, 3, 2, 3, 2, 3, 1, 3, 4, 1, 4, 4, 4]\n",
      "4\n",
      "(4, 9, 'bcav')\n"
     ]
    }
   ],
   "source": [
    "s='abcabcabcv' \n",
    "sol = Solution()\n",
    "print(sol.lengthOfLongestSubstring(s))"
   ]
  },
  {
   "cell_type": "code",
   "execution_count": 104,
   "metadata": {},
   "outputs": [
    {
     "name": "stdout",
     "output_type": "stream",
     "text": [
      "['d', 'vd', 'v', 'vdf', 'dv', 'dvf']\n",
      "[1, 2, 1, 3, 2, 3]\n",
      "3\n",
      "(3, 3, 'vdf')\n"
     ]
    }
   ],
   "source": [
    "s='dvdf' \n",
    "sol = Solution()\n",
    "print(sol.lengthOfLongestSubstring(s))\n",
    "#sol.lengthOfLongestSubstringMethod2(s)"
   ]
  },
  {
   "cell_type": "code",
   "execution_count": 36,
   "metadata": {},
   "outputs": [
    {
     "name": "stdout",
     "output_type": "stream",
     "text": [
      "exists at 0\n"
     ]
    }
   ],
   "source": [
    "testList = ['dv','vd',1,2,3]\n",
    "\n",
    "if 'dv' in testList:\n",
    "    print('exists at', testList.index('dv'))\n",
    "else:\n",
    "    print('doest exist')"
   ]
  },
  {
   "cell_type": "code",
   "execution_count": 207,
   "metadata": {},
   "outputs": [],
   "source": [
    "#using sliding window technique\n",
    "\n",
    "\n",
    "class solution:\n",
    "    def maxSubstring(self,s):\n",
    "        i = 1\n",
    "        j = 0\n",
    "        length = len(s)\n",
    "        substr = []\n",
    "        strlen = []\n",
    "        \n",
    "        for k in range(length):\n",
    "            if j <= length and i <= length:\n",
    "                #print(s[i],s[j])\n",
    "                if s[i] == s[j]:\n",
    "                    #substr.append(s[j:i])\n",
    "                    #strlen.append(i - j )\n",
    "                    #print(s[j:i], i-j)\n",
    "                    j += 1\n",
    "                    #i += 1\n",
    "                else:\n",
    "                    i += 1\n",
    "                    substr.append(s[j:i+1])\n",
    "                    strlen.append(i - j + 1)\n",
    "                    #print(s[j:i+1], i-j+1)\n",
    "        maxLen = max(strlen)\n",
    "        print(maxLen)\n",
    "        #maxlenIndex = index(strlen[maxlen])\n",
    "        m = strlen.index(max(strlen))\n",
    "        print(m)\n",
    "        maxSubstr = substr[m]\n",
    "        print(substr)\n",
    "        print(strlen)\n",
    "        return maxSubstr"
   ]
  },
  {
   "cell_type": "code",
   "execution_count": 208,
   "metadata": {},
   "outputs": [
    {
     "name": "stdout",
     "output_type": "stream",
     "text": [
      "5\n",
      "4\n",
      "['abc', 'abca', 'bcab', 'cabd', 'cabde']\n",
      "[3, 4, 4, 4, 5]\n",
      "cabde\n"
     ]
    }
   ],
   "source": [
    "sol = solution()\n",
    "substr = sol.maxSubstring(\"abcabde\")\n",
    "print(substr)"
   ]
  },
  {
   "cell_type": "code",
   "execution_count": 267,
   "metadata": {},
   "outputs": [],
   "source": [
    "class findAPPattern:\n",
    "    # this is to find AP for length of three\n",
    "    def findAirthmeticProgression(self,arr):\n",
    "        # assuming sorted array\n",
    "        # for Airthmetic progression for i,j, k -- 2a[j] = a[i] + a[k]\n",
    "        #define edge cases - loop till n-1\n",
    "        if len(arr) <= 2:\n",
    "            return arr\n",
    "        for j in range(1,len(arr) - 1):\n",
    "            #print(j) \n",
    "            i = j - 1\n",
    "            k = j + 1\n",
    "            while i >= 0 and k <= len(arr):\n",
    "                if 2 * arr[j] == arr[i] + arr[k]:\n",
    "                    #print(i,j,k)\n",
    "                    print(arr[i],arr[j],arr[k])\n",
    "                    return True\n",
    "                elif 2 * arr[j] > arr[i] + arr[k]:\n",
    "                    k += 1\n",
    "                else:\n",
    "                    i -= 1\n",
    "                    \n",
    "        return False\n",
    "    \n",
    "    # need to genralize above func for any length, to find length of longest AP\n",
    "    #set[] = {5, 10, 15, 20, 25, 30}\n",
    "    #output = 6\n",
    "    #The whole set is in AP\n",
    "\n",
    "    def findAPgeneral(self, arr):\n",
    "        #find lenght of longest AP\n",
    "        ans = 2\n",
    "        llap = [2]*len(arr)\n",
    "        if len(arr) <= 2:\n",
    "            return len(arr)\n",
    "        for j in range(len(arr)-2,-1,-1):\n",
    "            #print(j) \n",
    "            i = j - 1\n",
    "            k = j + 1\n",
    "            while(i >= 0 and k < len(arr)):\n",
    "                if 2 * arr[j] == arr[i] + arr[k]:\n",
    "                    #print(i,j,k)\n",
    "                    #print(arr[i],arr[j],arr[k])\n",
    "                    llap[j] = max(llap[k]+1, llap[j])\n",
    "                    ans     = max(llap[j],ans)\n",
    "                    i -= 1\n",
    "                    k += 1\n",
    "                    #return ans\n",
    "                elif 2 * arr[j] > arr[i] + arr[k]:\n",
    "                    k += 1\n",
    "                else:\n",
    "                    i -= 1\n",
    "                    \n",
    "        return ans\n",
    "    \n"
   ]
  },
  {
   "cell_type": "code",
   "execution_count": 268,
   "metadata": {
    "collapsed": true
   },
   "outputs": [],
   "source": [
    "AP = findAPPattern()"
   ]
  },
  {
   "cell_type": "code",
   "execution_count": 263,
   "metadata": {},
   "outputs": [
    {
     "name": "stdout",
     "output_type": "stream",
     "text": [
      "1 15 29\n"
     ]
    },
    {
     "data": {
      "text/plain": [
       "True"
      ]
     },
     "execution_count": 263,
     "metadata": {},
     "output_type": "execute_result"
    }
   ],
   "source": [
    "arr = [1,4,9,15,20,29,31,35]\n",
    "AP.findAirthmeticProgression(arr)"
   ]
  },
  {
   "cell_type": "code",
   "execution_count": 272,
   "metadata": {},
   "outputs": [
    {
     "data": {
      "text/plain": [
       "6"
      ]
     },
     "execution_count": 272,
     "metadata": {},
     "output_type": "execute_result"
    }
   ],
   "source": [
    "arr = [1,2,4,6,8,10,14]\n",
    "ans = AP.findAPgeneral(arr)\n",
    "ans"
   ]
  },
  {
   "cell_type": "code",
   "execution_count": 265,
   "metadata": {
    "collapsed": true
   },
   "outputs": [],
   "source": [
    "class Solution: \n",
    "    def Solve(self, A): \n",
    "        ans = 2        \n",
    "        n= len(A) \n",
    "        if n<=2 : \n",
    "            return n \n",
    "        llap = [2]*n \n",
    "        A.sort() \n",
    "  \n",
    "        for j in range(n-2, -1, -1): \n",
    "            i= j-1\n",
    "            k= j+1\n",
    "            while(i>=0 and k<n): \n",
    "                if A[i]+A[k] == 2*A[j]: \n",
    "                    llap[j] = max(llap[k]+1,llap[j]) \n",
    "                    ans = max(ans, llap[j]) \n",
    "                    i-=1\n",
    "                    k+=1\n",
    "                elif A[i]+A[k] < 2*A[j]: \n",
    "                    k += 1\n",
    "                else: \n",
    "                    i -= 1\n",
    "  \n",
    "        return ans  "
   ]
  },
  {
   "cell_type": "code",
   "execution_count": 273,
   "metadata": {},
   "outputs": [
    {
     "name": "stdout",
     "output_type": "stream",
     "text": [
      "3\n",
      "6\n"
     ]
    }
   ],
   "source": [
    "obj = Solution() \n",
    "a= [9, 4, 7, 2, 10] \n",
    "print(obj.Solve(a)) \n",
    "b = [1,2,4,6,8,10,14]\n",
    "print(obj.Solve(b)) \n"
   ]
  },
  {
   "cell_type": "code",
   "execution_count": null,
   "metadata": {
    "collapsed": true
   },
   "outputs": [],
   "source": []
  }
 ],
 "metadata": {
  "kernelspec": {
   "display_name": "Python 3",
   "language": "python",
   "name": "python3"
  },
  "language_info": {
   "codemirror_mode": {
    "name": "ipython",
    "version": 3
   },
   "file_extension": ".py",
   "mimetype": "text/x-python",
   "name": "python",
   "nbconvert_exporter": "python",
   "pygments_lexer": "ipython3",
   "version": "3.6.3"
  }
 },
 "nbformat": 4,
 "nbformat_minor": 2
}
